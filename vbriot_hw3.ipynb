{
 "cells": [
  {
   "cell_type": "markdown",
   "metadata": {},
   "source": [
    "## Data620-Homework3\n",
    "\n",
    "In this week homework we will load a graph database, create basic analysis of the graph, and display the graph.\n",
    "\n",
    "### Data\n",
    "We selected a database from  https://snap.stanford.edu/data/.  The database selected is: \"Fine Foods\" under the category \"Online Review\". This dataset consists of reviews of fine foods from amazon. The data span a period of more than 10 years, including all ~500,000 reviews up to October 2012. Reviews include product and user information, ratings, and a plaintext review.\n",
    "\n",
    "The file is finefoods.txt.gz and we will assume that it has been downloaded and \"unzip\".  Also, the file was open are saved with wordpad as foods2.txt to force the newline character to be interpreted properly.  \n",
    "\n",
    "We data format is as follows: \n",
    "\n",
    "product/productId: B001E4KFG0  \n",
    "review/userId: A3SGXH7AUHU8GW  \n",
    "review/profileName: delmartian  \n",
    "review/helpfulness: 1/1  \n",
    "review/score: 5.0  \n",
    "review/time: 1303862400  \n",
    "review/summary: Good Quality Dog Food  \n",
    "review/text: I have bought several of the Vitality canned dog food products and have  \n",
    "found them all to be of good quality. The product looks more like a stew than a  \n",
    "processed meat and it smells better. My Labrador is finicky and she appreciates this  \n",
    "product better than most.\n",
    "\n",
    "For the purpose of this assignment, we will load product, reviewer, and score as a graph.  Nodes will be products and reviewers, an edge will represent whether a product has been reviewed by a reviewer and the edge will be given a weigth indicated by the score.  \n",
    "\n",
    "Because this data set is over 5000,000 reviews we will only load a limited number of records.  Each records contains 8 lines and are separated by line feed.  Hence a \"record\" consist of 9 lines.  We will make sure to load a multiple of 9 lines from text file.  "
   ]
  },
  {
   "cell_type": "code",
   "execution_count": 1,
   "metadata": {
    "collapsed": true
   },
   "outputs": [],
   "source": [
    "# set the number of lines to load, must be a multiple of 9\n",
    "n_process=900\n",
    "# load the file\n",
    "with open(\"foods2.txt\") as myfile:\n",
    "    subset = [next(myfile) for x in xrange(n_process)]\n",
    "myfile.close()"
   ]
  },
  {
   "cell_type": "code",
   "execution_count": 2,
   "metadata": {
    "collapsed": true
   },
   "outputs": [],
   "source": [
    "# function to extract appropriate information based on position in record\n",
    "def process_line (line, l, case):\n",
    "    \"\"\" This function is to process the content of line based on position in block;\n",
    "        if pos = 0 mod 9 - process product id, \n",
    "        if pos = 1 mod 9 - process review id,\n",
    "        if pos = 4 mod 9 - process rating,\n",
    "        ignore all other position\"\"\"\n",
    "    if case == 0:\n",
    "        result = line[19:l-1]\n",
    "    elif case == 1:\n",
    "        result = line[15:l-1]\n",
    "    elif case == 4:\n",
    "        result = line[14:l-1]\n",
    "    else:\n",
    "        result = ''\n",
    "    return result\n",
    "    "
   ]
  },
  {
   "cell_type": "code",
   "execution_count": 3,
   "metadata": {
    "collapsed": true
   },
   "outputs": [],
   "source": [
    "# function to process all the lines that have been extracted from file and store in a list of tuples\n",
    "def process_file (head, n):\n",
    "    \"\"\" This function will read through all the lines and identify the block of data. \n",
    "        It will process each line and build a list of tuple to build graph\"\"\"\n",
    "    g_list = []\n",
    "    for x in range(n):\n",
    "        line = subset[x]\n",
    "        l=len(line)\n",
    "        p = x%9\n",
    "        if p == 0:\n",
    "            product = process_line(line, l, p)\n",
    "        if p == 1:\n",
    "            reviewer = process_line(line, l, p)\n",
    "        if p == 4:\n",
    "            score_alpha = process_line(line, l, p)\n",
    "            score = float(score_alpha)\n",
    "        if p == 8:\n",
    "            # build tuple (reviewer, product, rate) and add to list\n",
    "            g_list.append((reviewer, product, score))\n",
    "    return(g_list)"
   ]
  },
  {
   "cell_type": "code",
   "execution_count": 15,
   "metadata": {
    "collapsed": true
   },
   "outputs": [],
   "source": [
    "# call function is processed the extract from file and build the list of tuples\n",
    "graph_list = process_file (subset, n_process)\n",
    "reviewer_list = []\n",
    "product_list = []\n",
    "\n",
    "# we will also extract list of nodes=Products and list of nodes=Reviewers.  We will build a bipartite graph\n",
    "for i in range(len(graph_list)):\n",
    "    reviewer_list.append(graph_list[i][0])\n",
    "    product_list.append(graph_list[i][1])\n"
   ]
  },
  {
   "cell_type": "markdown",
   "metadata": {},
   "source": [
    "### Graph Building and Graph Analysis\n",
    "\n",
    "We will now build the graph from the list of tuples.  The graph will be built and analysed using the Networkx package."
   ]
  },
  {
   "cell_type": "code",
   "execution_count": 17,
   "metadata": {
    "collapsed": true
   },
   "outputs": [],
   "source": [
    "import networkx as nx\n",
    "from networkx.algorithms import bipartite\n",
    "\n",
    "%matplotlib inline\n",
    "import matplotlib.pyplot as plt\n"
   ]
  },
  {
   "cell_type": "code",
   "execution_count": 20,
   "metadata": {
    "collapsed": true
   },
   "outputs": [],
   "source": [
    "# create and empty graph\n",
    "bg=nx.Graph()\n",
    "\n",
    "bg.add_nodes_from(reviewer_list, bipartite=0) \n",
    "bg.add_nodes_from(product_list, bipartite=1) \n",
    "\n",
    "# Build graph from list of tuples (product, reviewer, score)\n",
    "bg.add_weighted_edges_from(graph_list)"
   ]
  },
  {
   "cell_type": "code",
   "execution_count": 21,
   "metadata": {},
   "outputs": [
    {
     "data": {
      "text/plain": [
       "100"
      ]
     },
     "execution_count": 21,
     "metadata": {},
     "output_type": "execute_result"
    }
   ],
   "source": [
    "# Sanity Checks\n",
    "bg.number_of_edges()"
   ]
  },
  {
   "cell_type": "markdown",
   "metadata": {},
   "source": [
    "From the data we loaded this is as we expected.  We will now draw the graph to have a visual understanding.  "
   ]
  },
  {
   "cell_type": "code",
   "execution_count": 22,
   "metadata": {},
   "outputs": [
    {
     "name": "stderr",
     "output_type": "stream",
     "text": [
      "C:\\Users\\vbrio\\Anaconda2\\lib\\site-packages\\networkx\\drawing\\nx_pylab.py:126: MatplotlibDeprecationWarning: pyplot.hold is deprecated.\n",
      "    Future behavior will be consistent with the long-time default:\n",
      "    plot commands add elements without first clearing the\n",
      "    Axes and/or Figure.\n",
      "  b = plt.ishold()\n",
      "C:\\Users\\vbrio\\Anaconda2\\lib\\site-packages\\networkx\\drawing\\nx_pylab.py:138: MatplotlibDeprecationWarning: pyplot.hold is deprecated.\n",
      "    Future behavior will be consistent with the long-time default:\n",
      "    plot commands add elements without first clearing the\n",
      "    Axes and/or Figure.\n",
      "  plt.hold(b)\n",
      "C:\\Users\\vbrio\\Anaconda2\\lib\\site-packages\\matplotlib\\__init__.py:917: UserWarning: axes.hold is deprecated. Please remove it from your matplotlibrc and/or style files.\n",
      "  warnings.warn(self.msg_depr_set % key)\n",
      "C:\\Users\\vbrio\\Anaconda2\\lib\\site-packages\\matplotlib\\rcsetup.py:152: UserWarning: axes.hold is deprecated, will be removed in 3.0\n",
      "  warnings.warn(\"axes.hold is deprecated, will be removed in 3.0\")\n"
     ]
    },
    {
     "data": {
      "image/png": "[encoded data removed]",
      "text/plain": [
       "<matplotlib.figure.Figure at 0x62e27f0>"
      ]
     },
     "metadata": {},
     "output_type": "display_data"
    }
   ],
   "source": [
    "nx.draw(bg)"
   ]
  },
  {
   "cell_type": "markdown",
   "metadata": {},
   "source": [
    "From the visual, we can see that we have a lot of isolated nodes with 3 or 4 cluster of highly connected nodes.  "
   ]
  },
  {
   "cell_type": "markdown",
   "metadata": {},
   "source": [
    "We will now look at some basic information for the graph.  "
   ]
  },
  {
   "cell_type": "code",
   "execution_count": 31,
   "metadata": {},
   "outputs": [
    {
     "name": "stdout",
     "output_type": "stream",
     "text": [
      "Name: \n",
      "Type: Graph\n",
      "Number of nodes: 128\n",
      "Number of edges: 100\n",
      "Average degree:   1.5625\n",
      "Graph density: 0.0123031496063\n",
      "Is bipartite: True\n"
     ]
    }
   ],
   "source": [
    "print(nx.info(bg))\n",
    "print('Graph density: ' + str(nx.density(bg)))\n",
    "print('Is bipartite: ' + str(nx.is_bipartite(bg)))"
   ]
  },
  {
   "cell_type": "markdown",
   "metadata": {},
   "source": [
    "The density is a measure that indicates the number of edges divide by the number of possible edges.  It is a measure of how tightly a graph is connected."
   ]
  },
  {
   "cell_type": "markdown",
   "metadata": {},
   "source": [
    "We will now test whether the graph is connected in order to evaluate the diameter of the graph.  "
   ]
  },
  {
   "cell_type": "code",
   "execution_count": 32,
   "metadata": {},
   "outputs": [
    {
     "name": "stdout",
     "output_type": "stream",
     "text": [
      "Is connected: False\n"
     ]
    }
   ],
   "source": [
    "print('Is connected: ' + str(nx.is_connected(bg)))"
   ]
  },
  {
   "cell_type": "markdown",
   "metadata": {},
   "source": [
    "Let us evaluate connected subgraphs and find the largest one for further analysis.     "
   ]
  },
  {
   "cell_type": "code",
   "execution_count": 70,
   "metadata": {},
   "outputs": [
    {
     "data": {
      "text/plain": [
       "2"
      ]
     },
     "execution_count": 70,
     "metadata": {},
     "output_type": "execute_result"
    }
   ],
   "source": [
    "cc = nx.connected_components(bg)\n",
    "largest_c = max(cc, key=len)\n",
    "\n",
    "sub_bg = bg.subgraph(largest_c)\n",
    "\n",
    "nx.diameter(sub_bg)\n",
    "    \n"
   ]
  },
  {
   "cell_type": "code",
   "execution_count": 66,
   "metadata": {},
   "outputs": [
    {
     "data": {
      "image/png": "[encoded data removed]",
      "text/plain": [
       "<matplotlib.figure.Figure at 0x62e22b0>"
      ]
     },
     "metadata": {},
     "output_type": "display_data"
    }
   ],
   "source": [
    "nx.draw(sub_bg)"
   ]
  },
  {
   "cell_type": "markdown",
   "metadata": {},
   "source": [
    "Let us find the graph information for this subgraph.  "
   ]
  },
  {
   "cell_type": "code",
   "execution_count": 72,
   "metadata": {},
   "outputs": [
    {
     "name": "stdout",
     "output_type": "stream",
     "text": [
      "Name: \n",
      "Type: Graph\n",
      "Number of nodes: 20\n",
      "Number of edges: 19\n",
      "Average degree:   1.9000\n",
      "Graph density: 0.1\n",
      "Is bipartite: True\n"
     ]
    }
   ],
   "source": [
    "print(nx.info(sub_bg))\n",
    "print('Graph density: ' + str(nx.density(sub_bg)))\n",
    "print('Is bipartite: ' + str(nx.is_bipartite(sub_bg)))"
   ]
  },
  {
   "cell_type": "markdown",
   "metadata": {},
   "source": [
    "Let us now evaluate the Depth First Search transfersal for the subgraph.  "
   ]
  },
  {
   "cell_type": "code",
   "execution_count": 67,
   "metadata": {
    "collapsed": true
   },
   "outputs": [],
   "source": [
    "dfs_sub_bg = nx.traversal.dfs_edges(sub_bg)"
   ]
  },
  {
   "cell_type": "code",
   "execution_count": 69,
   "metadata": {},
   "outputs": [
    {
     "data": {
      "text/plain": [
       "[('A276999Y6VRSCQ', 'B001EO5QW8'),\n",
       " ('B001EO5QW8', 'A3PMM0NFVEJGK9'),\n",
       " ('B001EO5QW8', 'A39Z97950MCTQE'),\n",
       " ('B001EO5QW8', 'A2CI0RLADCRKPF'),\n",
       " ('B001EO5QW8', 'AOVROBZ8BNTP7'),\n",
       " ('B001EO5QW8', 'A26AY1TFK8BQXQ'),\n",
       " ('B001EO5QW8', 'A108P30XVUFKXY'),\n",
       " ('B001EO5QW8', 'A2GHZ2UTV2B0CD'),\n",
       " ('B001EO5QW8', 'ALOR97KTZTK1P'),\n",
       " ('B001EO5QW8', 'A17DW6SUOC70DJ'),\n",
       " ('B001EO5QW8', 'AQLL2R1PPR46X'),\n",
       " ('B001EO5QW8', 'A1WK4ALVZDYPUE'),\n",
       " ('B001EO5QW8', 'AQCY5KRO7489S'),\n",
       " ('B001EO5QW8', 'A2G7B7FKP2O2PU'),\n",
       " ('B001EO5QW8', 'A16XFOYQSJREL7'),\n",
       " ('B001EO5QW8', 'A3MGP2E1ZZ6GRB'),\n",
       " ('B001EO5QW8', 'A2EB6OGOWCRU5H'),\n",
       " ('B001EO5QW8', 'A1MYS9LFFBIYKM'),\n",
       " ('B001EO5QW8', 'AO80AC8313NIZ')]"
      ]
     },
     "execution_count": 69,
     "metadata": {},
     "output_type": "execute_result"
    }
   ],
   "source": [
    "list(dfs_sub_bg)"
   ]
  },
  {
   "cell_type": "markdown",
   "metadata": {},
   "source": [
    "We will now prepare the subgraph to be imported into Gephi."
   ]
  },
  {
   "cell_type": "code",
   "execution_count": null,
   "metadata": {
    "collapsed": true
   },
   "outputs": [],
   "source": [
    "nx.write_gml(sub_bg, 'food_subgraph.gml')"
   ]
  },
  {
   "cell_type": "markdown",
   "metadata": {},
   "source": [
    "### Subgraph in Gephi\n",
    "\n",
    "![Subgraph in Gephi](dephi_pic2.png)"
   ]
  },
  {
   "cell_type": "markdown",
   "metadata": {},
   "source": [
    "### Link to video\n",
    "\n",
    "[Presentation of findings](https://youtu.be/Tnf4jROXivk)"
   ]
  },
  {
   "cell_type": "code",
   "execution_count": null,
   "metadata": {
    "collapsed": true
   },
   "outputs": [],
   "source": []
  }
 ],
 "metadata": {
  "kernelspec": {
   "display_name": "Python 2",
   "language": "python",
   "name": "python2"
  },
  "language_info": {
   "codemirror_mode": {
    "name": "ipython",
    "version": 2
   },
   "file_extension": ".py",
   "mimetype": "text/x-python",
   "name": "python",
   "nbconvert_exporter": "python",
   "pygments_lexer": "ipython2",
   "version": "2.7.13"
  }
 },
 "nbformat": 4,
 "nbformat_minor": 2
}
