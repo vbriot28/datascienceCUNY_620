{
 "cells": [
  {
   "cell_type": "markdown",
   "metadata": {},
   "source": [
    "### Project 4\n",
    "### Movie Review Classifier - Valerie Briot\n",
    "\n",
    "Using the movie review document classifier discussed in this chapter, generate a list of the 30 features that the classifier finds to be most informative. Can you explain why these particular features are informative? Do you find any of them surprising?\n",
    "\n",
    "***\n",
    "\n",
    "For we will build the classifier in question.\n",
    "\n",
    "***\n",
    "\n",
    "The Movie Reviews Corpus, which categorizes each review as positive or negative."
   ]
  },
  {
   "cell_type": "code",
   "execution_count": 34,
   "metadata": {
    "collapsed": true
   },
   "outputs": [],
   "source": [
    "# Import from required package\n",
    "\n",
    "import nltk\n",
    "from nltk.corpus import movie_reviews\n",
    "\n",
    "import random\n",
    "\n",
    "import pandas as pd\n",
    "\n",
    "import matplotlib.pyplot as plt\n",
    "\n",
    "# inline matplotlib\n",
    "%matplotlib inline"
   ]
  },
  {
   "cell_type": "markdown",
   "metadata": {},
   "source": [
    "First, we construct a list of documents, labeled with the appropriate categories."
   ]
  },
  {
   "cell_type": "code",
   "execution_count": 29,
   "metadata": {
    "collapsed": true
   },
   "outputs": [],
   "source": [
    "documents = [( list( movie_reviews.words( fileid)), category) \n",
    "    for category in movie_reviews.categories()\n",
    "        for fileid in movie_reviews.fileids( category)] "
   ]
  },
  {
   "cell_type": "markdown",
   "metadata": {},
   "source": [
    "We will now shuffle the document to ensure randomization but we will set a seed for reproducible results.  "
   ]
  },
  {
   "cell_type": "code",
   "execution_count": 15,
   "metadata": {
    "collapsed": true
   },
   "outputs": [],
   "source": [
    "# Use Seed to be able to re-produce results\n",
    "random_seed=123468\n",
    "random.seed(random_seed)\n",
    "random.shuffle( documents) "
   ]
  },
  {
   "cell_type": "markdown",
   "metadata": {},
   "source": [
    "Let us now consider the different words in the overall corpus and their frequency of appearance.  We will convert all words to lower cases.  "
   ]
  },
  {
   "cell_type": "code",
   "execution_count": 16,
   "metadata": {
    "collapsed": true
   },
   "outputs": [],
   "source": [
    "all_words = nltk.FreqDist( w.lower() for w in movie_reviews.words())"
   ]
  },
  {
   "cell_type": "markdown",
   "metadata": {},
   "source": [
    "Before building the feature, we will look at some numbers for the overall corpus. "
   ]
  },
  {
   "cell_type": "code",
   "execution_count": 35,
   "metadata": {},
   "outputs": [
    {
     "name": "stdout",
     "output_type": "stream",
     "text": [
      "There are 2000 documents in the movie reviews dataset.\n",
      "There are 39768 distinct words in the dataset.\n",
      "There are 1583820 tokens in the dataset.\n",
      "    ,   the     .     a   and    of    to     '    is    in     s     \"    it  that     -     )     (    as  with   for \n",
      "77717 76529 65876 38106 35576 34123 31937 30585 25195 21822 18513 17612 16107 15924 15595 11781 11664 11378 10792  9961 \n"
     ]
    },
    {
     "data": {
      "image/png": "[encoded data removed]",
      "text/plain": [
       "<matplotlib.figure.Figure at 0x17531a58>"
      ]
     },
     "metadata": {},
     "output_type": "display_data"
    }
   ],
   "source": [
    "print(\"There are %d documents in the movie reviews dataset.\" % (len(documents)))\n",
    "print(\"There are %d distinct words in the dataset.\" % (all_words.B()))\n",
    "print(\"There are %d tokens in the dataset.\" % (all_words.N()))\n",
    "all_words.tabulate(20)\n",
    "all_words.plot(100)"
   ]
  },
  {
   "cell_type": "markdown",
   "metadata": {},
   "source": [
    "As could be expected, \"stop-words\" and punctuation occurs with high frequency."
   ]
  },
  {
   "cell_type": "markdown",
   "metadata": {},
   "source": [
    "Next, we define a feature extractor for documents as per the discussion, so the classifier will know which aspects of the data it should pay attention to.  \n",
    "\n",
    "For document topic identification, we can define a feature for each word, indicating whether the document contains that word. To limit the number of features that the classifier needs to process, we begin by constructing a list of the 2,000 most frequent words in the overall corpus"
   ]
  },
  {
   "cell_type": "code",
   "execution_count": 18,
   "metadata": {
    "collapsed": true
   },
   "outputs": [],
   "source": [
    "all_words = nltk.FreqDist( w.lower() for w in movie_reviews.words())\n",
    "\n",
    "#word_features = all_words.keys()[: 2000]\n",
    "word_features = [w for (w, c) in all_words.most_common(2000)]\n",
    "\n",
    "#Build Document Feature\n",
    "def document_features( document): \n",
    "    document_words = set( document) \n",
    "    features = {} \n",
    "    for word in word_features: \n",
    "        features[' contains(% s)' % word] = (word in document_words) \n",
    "    return features\n"
   ]
  },
  {
   "cell_type": "markdown",
   "metadata": {},
   "source": [
    "We now define a feature extractor that simply checks whether each of these words is present in a given document.  \n",
    "\n",
    "**Note:**\n",
    "We compute the set of all words in a document in , rather than just checking if word in document, because checking whether a word occurs in a set is much faster than checking whether it occurs in a list."
   ]
  },
  {
   "cell_type": "markdown",
   "metadata": {
    "collapsed": true
   },
   "source": [
    "Now that we've defined our feature extractor, we can use it to train a classifier to label new movie reviews. To check how reliable the resulting classifier is, we compute its accuracy on the test set. We will use show_most_informative_features() to find out which features the classifier found to be most informative."
   ]
  },
  {
   "cell_type": "code",
   "execution_count": 19,
   "metadata": {},
   "outputs": [],
   "source": [
    "featuresets = [(document_features(d), c) for (d,c) in documents]\n",
    "train_set, test_set = featuresets[100:], featuresets[:100]\n",
    "classifier = nltk.NaiveBayesClassifier.train(train_set)"
   ]
  },
  {
   "cell_type": "markdown",
   "metadata": {},
   "source": [
    "Let us look at classifier accuracy:"
   ]
  },
  {
   "cell_type": "code",
   "execution_count": 20,
   "metadata": {},
   "outputs": [
    {
     "name": "stdout",
     "output_type": "stream",
     "text": [
      "Naive Bayes accuracy with 2000 bag of words features is 0.77\n"
     ]
    }
   ],
   "source": [
    "print(\"Naive Bayes accuracy with 2000 bag of words features is %s\" % (nltk.classify.accuracy(classifier, test_set)))"
   ]
  },
  {
   "cell_type": "markdown",
   "metadata": {},
   "source": [
    "Let us examin the most informative features. These ratios are known as likelihood ratios, and can be useful for comparing different feature-outcome relationships. We will consider the top 30 informative features.  "
   ]
  },
  {
   "cell_type": "code",
   "execution_count": 21,
   "metadata": {},
   "outputs": [
    {
     "name": "stdout",
     "output_type": "stream",
     "text": [
      "Most Informative Features\n",
      "   contains(outstanding) = True              pos : neg    =     10.8 : 1.0\n",
      "         contains(mulan) = True              pos : neg    =      9.2 : 1.0\n",
      "        contains(seagal) = True              neg : pos    =      8.1 : 1.0\n",
      "   contains(wonderfully) = True              pos : neg    =      6.8 : 1.0\n",
      "         contains(damon) = True              pos : neg    =      5.8 : 1.0\n",
      "        contains(wasted) = True              neg : pos    =      5.5 : 1.0\n",
      "        contains(poorly) = True              neg : pos    =      5.5 : 1.0\n",
      "         contains(awful) = True              neg : pos    =      5.4 : 1.0\n",
      "         contains(waste) = True              neg : pos    =      5.4 : 1.0\n",
      "    contains(ridiculous) = True              neg : pos    =      5.3 : 1.0\n",
      "          contains(lame) = True              neg : pos    =      5.3 : 1.0\n",
      "         contains(flynt) = True              pos : neg    =      5.1 : 1.0\n",
      "       contains(unfunny) = True              neg : pos    =      5.0 : 1.0\n",
      "         contains(worst) = True              neg : pos    =      4.5 : 1.0\n",
      "         contains(bland) = True              neg : pos    =      4.4 : 1.0\n",
      "           contains(era) = True              pos : neg    =      4.2 : 1.0\n",
      "        contains(allows) = True              pos : neg    =      4.2 : 1.0\n",
      "        contains(stupid) = True              neg : pos    =      4.0 : 1.0\n",
      "     contains(laughable) = True              neg : pos    =      4.0 : 1.0\n",
      "          contains(jedi) = True              pos : neg    =      4.0 : 1.0\n",
      "     contains(fantastic) = True              pos : neg    =      3.9 : 1.0\n",
      "     contains(memorable) = True              pos : neg    =      3.8 : 1.0\n",
      "          contains(dull) = True              neg : pos    =      3.8 : 1.0\n",
      "     contains(pointless) = True              neg : pos    =      3.8 : 1.0\n",
      "          contains(mess) = True              neg : pos    =      3.8 : 1.0\n",
      "     contains(portrayal) = True              pos : neg    =      3.7 : 1.0\n",
      "         contains(hanks) = True              pos : neg    =      3.7 : 1.0\n",
      "        contains(boring) = True              neg : pos    =      3.7 : 1.0\n",
      "      contains(terrific) = True              pos : neg    =      3.5 : 1.0\n",
      "        contains(superb) = True              pos : neg    =      3.4 : 1.0\n"
     ]
    }
   ],
   "source": [
    "classifier.show_most_informative_features(30)"
   ]
  },
  {
   "cell_type": "markdown",
   "metadata": {},
   "source": [
    "This listing shows that the reviews in the training set that contains the word \"outstanding\" are 10.8 times more often positive than they are negative, but reviews that contains the word \"seagal\" are 8.1 times more often positive than they are negative."
   ]
  },
  {
   "cell_type": "markdown",
   "metadata": {},
   "source": [
    "Let us examine words that comprise the 30 most informative features;  \n",
    "* They are not function words but content words (words that convey information in a text)\n",
    "* Some are Proper names, either of actors or directors \n",
    "* Some of these words are part of movie title\n",
    " \n",
    "To facilitate the analysis, we will build a matrix with these words. The matrix comprise of the words that constituted the 30 most informative features, whether the feature was more likely to be negative (-1) or positive (1) and what was the likelyhood ratio (probability). \n",
    "\n",
    "In addition, we are building a column whether the name is a proper name and if so, whether the name is part of movie title (\"Movie\"), a director, filmaker, producer, or actor. If the proper name could not be identified, we denoted it with \"Unkown\". \n",
    "\n",
    "We also build a column to represent a 5 value scale of whether the word invoke for us a positive or negative feeling or neutral as denoted as 0 = neutral, -1=negative, -2=very negative, 1=positive, 2 very positive.\n",
    "\n",
    "Finally, we used the Standford NLP Sentiment analysis site and record the sentiment for each of our most informative feature. We understand that this site is meant to be a corpus based classifier, this is just to have an alternative to our own very subjective sentiment rating on these features. Standford also has a 5-value scale rating.  \n",
    "\n",
    "http://nlp.stanford.edu:8080/sentiment/rntnDemo.html  "
   ]
  },
  {
   "cell_type": "code",
   "execution_count": 52,
   "metadata": {},
   "outputs": [],
   "source": [
    "list_words = [\"outstanding\", \"mulan\", \"seagal\", \"wonderfully\", \"damon\", \"wasted\", \"poorly\", \"awful\", \\\n",
    "              \"waste\", \"ridiculous\", \"lame\", \"flynt\", \"unfunny\", \"worst\", \"bland\", \"era\", \"allows\", \"stupid\", \\\n",
    "             \"laughable\", \"jedi\", \"fantastic\", \"memorable\", \"dull\", \"pointless\", \"mess\", \"portrayal\", \"hanks\", \"boring\", \\\n",
    "             \"terrific\", \"superb\"]\n",
    "list_pos = [1, 1, -1, 1, 1, -1, -1, -1, -1, -1, -1, 1, -1, -1, -1, 1, 1, -1, -1, 1, 1, 1, -1, -1, -1, 1, 1, -1, 1,1]\n",
    "\n",
    "list_prob = [10.8, 9.2, 8.1, 6.8, 5.8, 5.5, 5.5, 5.4, 5.4, 5.3, 5.3, 5.1, 5.0, 4.5, 4.4, 4.2, 4.2, 4.0, 4.0, 4.0, 3.9, 3.8, \\\n",
    "             3.8, 3.8, 3.8, 3.7, 3.7, 3.7, 3.5, 3.4]\n",
    "\n",
    "list_proper = [\"N\", \"Y\", \"Y\", \"N\", \"Y\", \"N\", \"N\", \"N\", \"N\", \"N\", \"N\", \"Y\", \"N\", \"N\", \"N\", \"N\", \"N\", \"N\", \"N\", \"Y\", \"N\", \\\n",
    "               \"N\", \"N\", \"N\", \"N\", \"N\", \"Y\", \"N\", \"N\", \"N\"]\n",
    "\n",
    "list_category = [\"none\", \"movie\", \"actor\", \"none\", \"actor\", \"none\", \"none\", \"none\", \"none\", \"none\", \"none\", \\\n",
    "                 \"movie\", \"none\", \"none\", \"none\", \"none\", \"none\", \"none\", \"none\", \"movie\", \"none\", \"none\", \"none\", \\\n",
    "                \"none\", \"none\", \"none\", \"actor\", \"none\", \"none\", \"none\"]\n",
    "\n",
    "list_mysentiment = [2, 0, -2, 2, 1, -1, -1, -2, -1, -1, -1, -1, -1, -2, -1, 0, 0, -1, -1, 0, 2, 1, -1, -1, -1, 0, 0, -1, 1, 2]\n",
    "list_standfordSentiment = [2, 0, 0, 1, 0, -1, -1, 0, -1, -1, -2, 0, -1, -2, -1, 0, 0, -2, -1, 0, 1, 2, -2, -2, -1, 0, 0, -2, 2, 2]\n",
    "\n",
    "pd_movie = pd.DataFrame(\n",
    "    {\"feature\": list_words,\n",
    "     \"pos_neg\": list_pos,\n",
    "     \"probability\": list_prob, \n",
    "     \"proper\": list_proper, \n",
    "     \"category\": list_category, \n",
    "     \"mysentiment\": list_mysentiment,\n",
    "     \"Stanford\": list_standfordSentiment\n",
    "    })"
   ]
  },
  {
   "cell_type": "code",
   "execution_count": 53,
   "metadata": {},
   "outputs": [
    {
     "data": {
      "text/html": [
       "<div>\n",
       "<style>\n",
       "    .dataframe thead tr:only-child th {\n",
       "        text-align: right;\n",
       "    }\n",
       "\n",
       "    .dataframe thead th {\n",
       "        text-align: left;\n",
       "    }\n",
       "\n",
       "    .dataframe tbody tr th {\n",
       "        vertical-align: top;\n",
       "    }\n",
       "</style>\n",
       "<table border=\"1\" class=\"dataframe\">\n",
       "  <thead>\n",
       "    <tr style=\"text-align: right;\">\n",
       "      <th></th>\n",
       "      <th>Stanford</th>\n",
       "      <th>category</th>\n",
       "      <th>feature</th>\n",
       "      <th>mysentiment</th>\n",
       "      <th>pos_neg</th>\n",
       "      <th>probability</th>\n",
       "      <th>proper</th>\n",
       "    </tr>\n",
       "  </thead>\n",
       "  <tbody>\n",
       "    <tr>\n",
       "      <th>0</th>\n",
       "      <td>2</td>\n",
       "      <td>none</td>\n",
       "      <td>outstanding</td>\n",
       "      <td>2</td>\n",
       "      <td>1</td>\n",
       "      <td>10.8</td>\n",
       "      <td>N</td>\n",
       "    </tr>\n",
       "    <tr>\n",
       "      <th>1</th>\n",
       "      <td>0</td>\n",
       "      <td>movie</td>\n",
       "      <td>mulan</td>\n",
       "      <td>0</td>\n",
       "      <td>1</td>\n",
       "      <td>9.2</td>\n",
       "      <td>Y</td>\n",
       "    </tr>\n",
       "    <tr>\n",
       "      <th>2</th>\n",
       "      <td>0</td>\n",
       "      <td>actor</td>\n",
       "      <td>seagal</td>\n",
       "      <td>-2</td>\n",
       "      <td>-1</td>\n",
       "      <td>8.1</td>\n",
       "      <td>Y</td>\n",
       "    </tr>\n",
       "    <tr>\n",
       "      <th>3</th>\n",
       "      <td>1</td>\n",
       "      <td>none</td>\n",
       "      <td>wonderfully</td>\n",
       "      <td>2</td>\n",
       "      <td>1</td>\n",
       "      <td>6.8</td>\n",
       "      <td>N</td>\n",
       "    </tr>\n",
       "    <tr>\n",
       "      <th>4</th>\n",
       "      <td>0</td>\n",
       "      <td>actor</td>\n",
       "      <td>damon</td>\n",
       "      <td>1</td>\n",
       "      <td>1</td>\n",
       "      <td>5.8</td>\n",
       "      <td>Y</td>\n",
       "    </tr>\n",
       "    <tr>\n",
       "      <th>5</th>\n",
       "      <td>-1</td>\n",
       "      <td>none</td>\n",
       "      <td>wasted</td>\n",
       "      <td>-1</td>\n",
       "      <td>-1</td>\n",
       "      <td>5.5</td>\n",
       "      <td>N</td>\n",
       "    </tr>\n",
       "    <tr>\n",
       "      <th>6</th>\n",
       "      <td>-1</td>\n",
       "      <td>none</td>\n",
       "      <td>poorly</td>\n",
       "      <td>-1</td>\n",
       "      <td>-1</td>\n",
       "      <td>5.5</td>\n",
       "      <td>N</td>\n",
       "    </tr>\n",
       "    <tr>\n",
       "      <th>7</th>\n",
       "      <td>0</td>\n",
       "      <td>none</td>\n",
       "      <td>awful</td>\n",
       "      <td>-2</td>\n",
       "      <td>-1</td>\n",
       "      <td>5.4</td>\n",
       "      <td>N</td>\n",
       "    </tr>\n",
       "    <tr>\n",
       "      <th>8</th>\n",
       "      <td>-1</td>\n",
       "      <td>none</td>\n",
       "      <td>waste</td>\n",
       "      <td>-1</td>\n",
       "      <td>-1</td>\n",
       "      <td>5.4</td>\n",
       "      <td>N</td>\n",
       "    </tr>\n",
       "    <tr>\n",
       "      <th>9</th>\n",
       "      <td>-1</td>\n",
       "      <td>none</td>\n",
       "      <td>ridiculous</td>\n",
       "      <td>-1</td>\n",
       "      <td>-1</td>\n",
       "      <td>5.3</td>\n",
       "      <td>N</td>\n",
       "    </tr>\n",
       "    <tr>\n",
       "      <th>10</th>\n",
       "      <td>-2</td>\n",
       "      <td>none</td>\n",
       "      <td>lame</td>\n",
       "      <td>-1</td>\n",
       "      <td>-1</td>\n",
       "      <td>5.3</td>\n",
       "      <td>N</td>\n",
       "    </tr>\n",
       "    <tr>\n",
       "      <th>11</th>\n",
       "      <td>0</td>\n",
       "      <td>movie</td>\n",
       "      <td>flynt</td>\n",
       "      <td>-1</td>\n",
       "      <td>1</td>\n",
       "      <td>5.1</td>\n",
       "      <td>Y</td>\n",
       "    </tr>\n",
       "    <tr>\n",
       "      <th>12</th>\n",
       "      <td>-1</td>\n",
       "      <td>none</td>\n",
       "      <td>unfunny</td>\n",
       "      <td>-1</td>\n",
       "      <td>-1</td>\n",
       "      <td>5.0</td>\n",
       "      <td>N</td>\n",
       "    </tr>\n",
       "    <tr>\n",
       "      <th>13</th>\n",
       "      <td>-2</td>\n",
       "      <td>none</td>\n",
       "      <td>worst</td>\n",
       "      <td>-2</td>\n",
       "      <td>-1</td>\n",
       "      <td>4.5</td>\n",
       "      <td>N</td>\n",
       "    </tr>\n",
       "    <tr>\n",
       "      <th>14</th>\n",
       "      <td>-1</td>\n",
       "      <td>none</td>\n",
       "      <td>bland</td>\n",
       "      <td>-1</td>\n",
       "      <td>-1</td>\n",
       "      <td>4.4</td>\n",
       "      <td>N</td>\n",
       "    </tr>\n",
       "    <tr>\n",
       "      <th>15</th>\n",
       "      <td>0</td>\n",
       "      <td>none</td>\n",
       "      <td>era</td>\n",
       "      <td>0</td>\n",
       "      <td>1</td>\n",
       "      <td>4.2</td>\n",
       "      <td>N</td>\n",
       "    </tr>\n",
       "    <tr>\n",
       "      <th>16</th>\n",
       "      <td>0</td>\n",
       "      <td>none</td>\n",
       "      <td>allows</td>\n",
       "      <td>0</td>\n",
       "      <td>1</td>\n",
       "      <td>4.2</td>\n",
       "      <td>N</td>\n",
       "    </tr>\n",
       "    <tr>\n",
       "      <th>17</th>\n",
       "      <td>-2</td>\n",
       "      <td>none</td>\n",
       "      <td>stupid</td>\n",
       "      <td>-1</td>\n",
       "      <td>-1</td>\n",
       "      <td>4.0</td>\n",
       "      <td>N</td>\n",
       "    </tr>\n",
       "    <tr>\n",
       "      <th>18</th>\n",
       "      <td>-1</td>\n",
       "      <td>none</td>\n",
       "      <td>laughable</td>\n",
       "      <td>-1</td>\n",
       "      <td>-1</td>\n",
       "      <td>4.0</td>\n",
       "      <td>N</td>\n",
       "    </tr>\n",
       "    <tr>\n",
       "      <th>19</th>\n",
       "      <td>0</td>\n",
       "      <td>movie</td>\n",
       "      <td>jedi</td>\n",
       "      <td>0</td>\n",
       "      <td>1</td>\n",
       "      <td>4.0</td>\n",
       "      <td>Y</td>\n",
       "    </tr>\n",
       "    <tr>\n",
       "      <th>20</th>\n",
       "      <td>1</td>\n",
       "      <td>none</td>\n",
       "      <td>fantastic</td>\n",
       "      <td>2</td>\n",
       "      <td>1</td>\n",
       "      <td>3.9</td>\n",
       "      <td>N</td>\n",
       "    </tr>\n",
       "    <tr>\n",
       "      <th>21</th>\n",
       "      <td>2</td>\n",
       "      <td>none</td>\n",
       "      <td>memorable</td>\n",
       "      <td>1</td>\n",
       "      <td>1</td>\n",
       "      <td>3.8</td>\n",
       "      <td>N</td>\n",
       "    </tr>\n",
       "    <tr>\n",
       "      <th>22</th>\n",
       "      <td>-2</td>\n",
       "      <td>none</td>\n",
       "      <td>dull</td>\n",
       "      <td>-1</td>\n",
       "      <td>-1</td>\n",
       "      <td>3.8</td>\n",
       "      <td>N</td>\n",
       "    </tr>\n",
       "    <tr>\n",
       "      <th>23</th>\n",
       "      <td>-2</td>\n",
       "      <td>none</td>\n",
       "      <td>pointless</td>\n",
       "      <td>-1</td>\n",
       "      <td>-1</td>\n",
       "      <td>3.8</td>\n",
       "      <td>N</td>\n",
       "    </tr>\n",
       "    <tr>\n",
       "      <th>24</th>\n",
       "      <td>-1</td>\n",
       "      <td>none</td>\n",
       "      <td>mess</td>\n",
       "      <td>-1</td>\n",
       "      <td>-1</td>\n",
       "      <td>3.8</td>\n",
       "      <td>N</td>\n",
       "    </tr>\n",
       "    <tr>\n",
       "      <th>25</th>\n",
       "      <td>0</td>\n",
       "      <td>none</td>\n",
       "      <td>portrayal</td>\n",
       "      <td>0</td>\n",
       "      <td>1</td>\n",
       "      <td>3.7</td>\n",
       "      <td>N</td>\n",
       "    </tr>\n",
       "    <tr>\n",
       "      <th>26</th>\n",
       "      <td>0</td>\n",
       "      <td>actor</td>\n",
       "      <td>hanks</td>\n",
       "      <td>0</td>\n",
       "      <td>1</td>\n",
       "      <td>3.7</td>\n",
       "      <td>Y</td>\n",
       "    </tr>\n",
       "    <tr>\n",
       "      <th>27</th>\n",
       "      <td>-2</td>\n",
       "      <td>none</td>\n",
       "      <td>boring</td>\n",
       "      <td>-1</td>\n",
       "      <td>-1</td>\n",
       "      <td>3.7</td>\n",
       "      <td>N</td>\n",
       "    </tr>\n",
       "    <tr>\n",
       "      <th>28</th>\n",
       "      <td>2</td>\n",
       "      <td>none</td>\n",
       "      <td>terrific</td>\n",
       "      <td>1</td>\n",
       "      <td>1</td>\n",
       "      <td>3.5</td>\n",
       "      <td>N</td>\n",
       "    </tr>\n",
       "    <tr>\n",
       "      <th>29</th>\n",
       "      <td>2</td>\n",
       "      <td>none</td>\n",
       "      <td>superb</td>\n",
       "      <td>2</td>\n",
       "      <td>1</td>\n",
       "      <td>3.4</td>\n",
       "      <td>N</td>\n",
       "    </tr>\n",
       "  </tbody>\n",
       "</table>\n",
       "</div>"
      ],
      "text/plain": [
       "    Stanford category      feature  mysentiment  pos_neg  probability proper\n",
       "0          2     none  outstanding            2        1         10.8      N\n",
       "1          0    movie        mulan            0        1          9.2      Y\n",
       "2          0    actor       seagal           -2       -1          8.1      Y\n",
       "3          1     none  wonderfully            2        1          6.8      N\n",
       "4          0    actor        damon            1        1          5.8      Y\n",
       "5         -1     none       wasted           -1       -1          5.5      N\n",
       "6         -1     none       poorly           -1       -1          5.5      N\n",
       "7          0     none        awful           -2       -1          5.4      N\n",
       "8         -1     none        waste           -1       -1          5.4      N\n",
       "9         -1     none   ridiculous           -1       -1          5.3      N\n",
       "10        -2     none         lame           -1       -1          5.3      N\n",
       "11         0    movie        flynt           -1        1          5.1      Y\n",
       "12        -1     none      unfunny           -1       -1          5.0      N\n",
       "13        -2     none        worst           -2       -1          4.5      N\n",
       "14        -1     none        bland           -1       -1          4.4      N\n",
       "15         0     none          era            0        1          4.2      N\n",
       "16         0     none       allows            0        1          4.2      N\n",
       "17        -2     none       stupid           -1       -1          4.0      N\n",
       "18        -1     none    laughable           -1       -1          4.0      N\n",
       "19         0    movie         jedi            0        1          4.0      Y\n",
       "20         1     none    fantastic            2        1          3.9      N\n",
       "21         2     none    memorable            1        1          3.8      N\n",
       "22        -2     none         dull           -1       -1          3.8      N\n",
       "23        -2     none    pointless           -1       -1          3.8      N\n",
       "24        -1     none         mess           -1       -1          3.8      N\n",
       "25         0     none    portrayal            0        1          3.7      N\n",
       "26         0    actor        hanks            0        1          3.7      Y\n",
       "27        -2     none       boring           -1       -1          3.7      N\n",
       "28         2     none     terrific            1        1          3.5      N\n",
       "29         2     none       superb            2        1          3.4      N"
      ]
     },
     "execution_count": 53,
     "metadata": {},
     "output_type": "execute_result"
    }
   ],
   "source": [
    "pd_movie.head(30)"
   ]
  },
  {
   "cell_type": "code",
   "execution_count": 54,
   "metadata": {},
   "outputs": [
    {
     "data": {
      "text/plain": [
       "<matplotlib.axes._subplots.AxesSubplot at 0x14284cc0>"
      ]
     },
     "execution_count": 54,
     "metadata": {},
     "output_type": "execute_result"
    },
    {
     "data": {
      "image/png": "[encoded data removed]",
      "text/plain": [
       "<matplotlib.figure.Figure at 0x14284fd0>"
      ]
     },
     "metadata": {},
     "output_type": "display_data"
    }
   ],
   "source": [
    "pd_movie.plot(x='feature', y=['mysentiment', 'Stanford'])"
   ]
  },
  {
   "cell_type": "markdown",
   "metadata": {
    "collapsed": true
   },
   "source": [
    "In the top 5 most informative features, we have 3 proper names, 2 pertaining to actors and one to a movie.  These features may be accurate to classify the movie review but they are of use only of they appears in the movie review.  Hence, for feature the is a movie title as in the case of \"mulan\" this has very limited use to classify any other movie reviews unless it is to compare another movie with this one.  For actors, such as \"seagal\" or \"damon\", these features would only be relevant if the movie being reviewed has them as actors.  Again this would have limited used for a general movie review classifier.  Although in the case of \"seagal\" it appears to be a strong negative indicator (sentiment that I fully share).  \n",
    "For the non-proper word, it is important to remark again that the one that represent the stronger features are content words. Meaning that they carry information or/and meaning. Actually one could assume that the stronger the intensity of the meaning, the most relevant as a feature it would happen to be.  In interesting avenue of research beyone the scope of this protect would be to analyse such possibility. The difficulty would be in evaluating and ranking the intensity in an objective manner.  For example, \"wonderfully\" has a stronger conotation for myself than for the Standford Sentiment analysis engine.\n",
    "\n",
    "I find surprising that words such as \"superb\" or \"terrific\" that are positive and have a fairly strong meaning are not highly ranked as most informative features, only 3.5 and 3.4 (positive), meaning that these words are 3.5 and 3.4 times more positive then negative.  I would have expected a much higher probability towards positive.  Similarly, a word such as \"boring\" has a ranking of 3.7 (negative). Hence review containing this word are 3.7 more times negative than positive. Again, I would have expected a much higher probability towards negative. "
   ]
  },
  {
   "cell_type": "code",
   "execution_count": null,
   "metadata": {
    "collapsed": true
   },
   "outputs": [],
   "source": []
  }
 ],
 "metadata": {
  "kernelspec": {
   "display_name": "Python 2",
   "language": "python",
   "name": "python2"
  },
  "language_info": {
   "codemirror_mode": {
    "name": "ipython",
    "version": 2
   },
   "file_extension": ".py",
   "mimetype": "text/x-python",
   "name": "python",
   "nbconvert_exporter": "python",
   "pygments_lexer": "ipython2",
   "version": "2.7.13"
  }
 },
 "nbformat": 4,
 "nbformat_minor": 2
}
