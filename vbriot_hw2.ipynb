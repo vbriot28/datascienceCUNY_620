{
 "cells": [
  {
   "cell_type": "markdown",
   "metadata": {},
   "source": [
    "### Basic Graph in NetworkX\n",
    "\n",
    "For this assignment we selected NetworkX package.  NetworkX package is installed as part of the Anaconda development environment."
   ]
  },
  {
   "cell_type": "code",
   "execution_count": 16,
   "metadata": {
    "collapsed": true
   },
   "outputs": [],
   "source": [
    "import networkx as nx"
   ]
  },
  {
   "cell_type": "code",
   "execution_count": 17,
   "metadata": {
    "collapsed": true
   },
   "outputs": [],
   "source": [
    "# We will first create an empty graph\n",
    "G=nx.Graph()"
   ]
  },
  {
   "cell_type": "code",
   "execution_count": 18,
   "metadata": {
    "collapsed": true
   },
   "outputs": [],
   "source": [
    "# We will then add the node from a list, so first let us build the list with the 10 names\n",
    "\n",
    "l_names = ['Andre', 'Beverly', 'Carol', 'Diane', 'Ed', 'Fernando', 'Garth', 'Heather', 'Ike', 'Jane']\n",
    "\n",
    "# We will now add the 10 nodes to our empty graph from the name list\n",
    "G.add_nodes_from(l_names)"
   ]
  },
  {
   "cell_type": "code",
   "execution_count": 19,
   "metadata": {
    "scrolled": true
   },
   "outputs": [],
   "source": [
    "# We will now add the edges for the graph; the edges are as follows:\n",
    "# Andre is connected to Carol, Fernando, Diane, Beverly\n",
    "# Beverly is connected to Andre, Diane, Garth, Ed\n",
    "# Carol is connected to Andre, Diane, Fernando\n",
    "# Diane is connected to Andre, Beverly, Ed, Garth, Fernando, Carol\n",
    "# Ed is connected to Beverly, Diane, Garth\n",
    "# Fernando is connected to Carol, Andre, Diane, Garth, Heather\n",
    "# Garth is connected to Ed, Beverly, Diane, Fernando, Heather\n",
    "# Heather is connected to Fernando, Garth, Ike\n",
    "# Ike is connected to Heather, Jane\n",
    "# Jane is connected to Ike\n",
    "\n",
    "# Similar to the list for nodes, we will build a list of tuples to represent the desired edges.\n",
    "# We will add the edges, node by node\n",
    "# Edges for Node=Andre\n",
    "l_edges = [('Andre', 'Carol'), ('Andre', 'Fernando'), ('Andre', 'Diane'), ('Andre', 'Beverly')]\n",
    "\n",
    "# Edges for Node=Beverly\n",
    "l_edges = l_edges + [('Beverly', 'Diane'), ('Beverly', 'Garth'), ('Beverly', 'Ed')]\n",
    "\n",
    "# Edges for Node=Carol\n",
    "l_edges = l_edges + [('Carol', 'Diane'), ('Carol', 'Fernando')]\n",
    "\n",
    "# Edges for Node=Diane\n",
    "l_edges = l_edges + [('Diane', 'Ed'), ('Diane', 'Garth'), ('Diane', 'Fernando')]\n",
    "\n",
    "# Edges for Node=Ed\n",
    "l_edges = l_edges + [('Ed', 'Garth')]\n",
    "\n",
    "# Edges for Node=Fernando\n",
    "l_edges = l_edges + [('Fernando', 'Garth'), ('Fernando', 'Heather')]\n",
    "\n",
    "# Edges for Node=Garth\n",
    "l_edges = l_edges + [('Garth', 'Heather')]\n",
    "\n",
    "# Edges for Node=Heather\n",
    "l_edges = l_edges + [('Heather', 'Ike')]\n",
    "\n",
    "# Edges for Node=Ike\n",
    "l_edges = l_edges + [('Ike', 'Jane')]\n",
    "\n",
    "# Edges for Node=Jane, no additional edges from already defined\n",
    "\n",
    "# We will now the edges to the graph\n",
    "G.add_edges_from(l_edges)"
   ]
  },
  {
   "cell_type": "code",
   "execution_count": 20,
   "metadata": {},
   "outputs": [
    {
     "data": {
      "text/plain": [
       "10"
      ]
     },
     "execution_count": 20,
     "metadata": {},
     "output_type": "execute_result"
    }
   ],
   "source": [
    "# Sanity Check, we will check how many nodes (10) and edges we have (18)\n",
    "# Number of nodes for graph G\n",
    "G.number_of_nodes()\n"
   ]
  },
  {
   "cell_type": "code",
   "execution_count": 21,
   "metadata": {},
   "outputs": [
    {
     "data": {
      "text/plain": [
       "18"
      ]
     },
     "execution_count": 21,
     "metadata": {},
     "output_type": "execute_result"
    }
   ],
   "source": [
    "# Number of edges for graph G\n",
    "G.number_of_edges()"
   ]
  },
  {
   "cell_type": "code",
   "execution_count": 22,
   "metadata": {
    "collapsed": true
   },
   "outputs": [],
   "source": [
    "# import matplotlib \n",
    "import matplotlib.pyplot as plt"
   ]
  },
  {
   "cell_type": "code",
   "execution_count": 23,
   "metadata": {
    "scrolled": true
   },
   "outputs": [
    {
     "data": {
      "image/png": "[encoded data removed]",
      "text/plain": [
       "<matplotlib.figure.Figure at 0x9a89358>"
      ]
     },
     "metadata": {},
     "output_type": "display_data"
    }
   ],
   "source": [
    "nx.draw(G)\n",
    "plt.show()"
   ]
  },
  {
   "cell_type": "code",
   "execution_count": 24,
   "metadata": {
    "collapsed": true
   },
   "outputs": [],
   "source": [
    "# Reference: https://networkx.github.io/documentation/networkx-1.10/overview.html"
   ]
  },
  {
   "cell_type": "code",
   "execution_count": null,
   "metadata": {
    "collapsed": true
   },
   "outputs": [],
   "source": []
  }
 ],
 "metadata": {
  "kernelspec": {
   "display_name": "Python 2",
   "language": "python",
   "name": "python2"
  },
  "language_info": {
   "codemirror_mode": {
    "name": "ipython",
    "version": 2
   },
   "file_extension": ".py",
   "mimetype": "text/x-python",
   "name": "python",
   "nbconvert_exporter": "python",
   "pygments_lexer": "ipython2",
   "version": "2.7.13"
  }
 },
 "nbformat": 4,
 "nbformat_minor": 2
}
