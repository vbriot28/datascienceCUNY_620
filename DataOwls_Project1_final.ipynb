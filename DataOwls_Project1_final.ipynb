{
 "cells": [
  {
   "cell_type": "markdown",
   "metadata": {},
   "source": [
    "## DATA 620 - Project 1 - Centrality Measures\n",
    "\n",
    "Team: Data Owls  \n",
    "Members: Keith Folsom, Valerie Briot  \n",
    "Date: 10/02/2017\n",
    "\n",
    "### Project Overview\n",
    "\n",
    "This project uses the dataset is Yelp Business Review and can be here https://www.yelp.com/dataset/download as a reference. Due to the volume of data, the 2015 Yelp Business Review dataset will be used.\n",
    "\n",
    "As background, Yelp is a crowd-sourced local business review and social networking site.  Users can submit a review for products and services using a 1 to 5 start rating system.  \n",
    "\n",
    "For the purposes of this project, we will consider the Businesses being reviewed, User, and Reviews.  User-based reviews such as the Yelp dataset make for a natural bipartite graph with a 2-node types network.  However, in this project, we will focus on the business entity (which features more attributes) as a 1-node type graph. \n",
    "\n",
    "\n",
    "The data preparation steps was quite extensive and details can be found below... \n",
    "\n",
    "The Yelp dataset is available in JSON or SQL format.  Ultimately the JSON files noted below were used:\n",
    "\n",
    "File |    Size \n",
    "------|---------------- \n",
    "business.json |  54 MB  \n",
    "user.json     |  158 MB    \n",
    "review.json   |  1.32 GB    \n",
    "\n",
    "The JSON file processing was performed in R with the resulting RData files being loaded here on GitHub:\n",
    "\n",
    "https://github.com/kfolsom98/DATA620/tree/master/Project1/data\n",
    "\n",
    "\n",
    "From the transformed Yelp JSON file, two files were created specifically for the subsequent graph analysis:\n",
    "\n",
    "1. __LasVegas_clean.csv:__ a CSV containing all restaurants in Las Vegas representing the business nodes  \n",
    "    * script to create the business data is located here:  \n",
    "    https://github.com/vbriot28/datascienceCUNY_620/blob/master/Project1_Business%20Data.R  \n",
    "      \n",
    "2. __edgelist_2014_2015.csv:__ A CSV file with edgelist of businesses specific to The Strip.\n",
    "    * script to create the edgelist is located here:  \n",
    "    https://github.com/kfolsom98/DATA620/blob/master/Project1/code/business_edgelist.R\n",
    "\n",
    "    \n",
    "Relationships (edges) are built between businesses as follows: Business A is connected to Business B if they were reviewed by the same user.  Therefore business A and Business B are connected.\n",
    "\n",
    "The graph analysis will be done using the Networkx package.\n",
    " "
   ]
  },
  {
   "cell_type": "markdown",
   "metadata": {},
   "source": [
    "### Scope\n",
    "\n",
    "Because the size of the Yelp dataset is quite large for the purpose of this project, we restricted our analysis to restaurants in the city of Las Vegas identified as being in \"The Strip\" neighborhood.  User reviews have been limited to reviews made in the year of 2014 or 2015. "
   ]
  },
  {
   "cell_type": "code",
   "execution_count": 57,
   "metadata": {
    "collapsed": true
   },
   "outputs": [],
   "source": [
    "# import necessary packages\n",
    "\n",
    "import networkx as nx\n",
    "import pandas as pd\n",
    "import seaborn as sns\n",
    "\n",
    "%matplotlib inline\n",
    "import matplotlib.pyplot as plt\n",
    "\n",
    "from operator import itemgetter\n",
    "\n",
    "import scipy.stats as stats"
   ]
  },
  {
   "cell_type": "markdown",
   "metadata": {},
   "source": [
    "###   Data Import and Preparation  \n",
    "\n",
    "#### Part 1: Businesses\n",
    "\n",
    "Our graph will be build with the nodes as  reviewed restaurants from the Strip in Las Vegas.  The edges between 2 restaurants will represent that the 2 restaurants were reviewed by the same user.  \n",
    "\n",
    "We will consider the following attributes for the restaurants: Takeout, Waiter Servervice and Ratings.  \n"
   ]
  },
  {
   "cell_type": "code",
   "execution_count": 58,
   "metadata": {
    "collapsed": true
   },
   "outputs": [],
   "source": [
    "##### Read the Las Vegas businesses data into a pandas data frame\n",
    "\n",
    "file = \"https://raw.githubusercontent.com/vbriot28/datascienceCUNY_620/master/LasVegas_clean.csv\"\n",
    "business = pd.read_csv(file,  header=0)\n",
    "\n",
    "# subset to \"The Strip\" neighborhood\n",
    "business = business[(business.neighborhoods==\"The Strip\")]\n",
    "\n",
    "# convert categorical variables to Yes, No, and Unknown\n",
    "business['Delivery'] = business['Delivery'].map({'FALSE': 'No', 'TRUE': 'Yes', 'Unknown': 'Unknown'})\n",
    "business['Take-out'] = business['Take-out'].map({'FALSE': 'No', 'TRUE': 'Yes', 'Unknown': 'Unknown'})\n",
    "business['Waiter Service'] = business['Waiter Service'].map({'FALSE': 'No', 'TRUE': 'Yes', 'Unknown': 'Unknown'})\n",
    "\n",
    "# drop the first column\n",
    "business.drop(business.columns[0],axis=1,inplace=True)"
   ]
  },
  {
   "cell_type": "code",
   "execution_count": 59,
   "metadata": {},
   "outputs": [
    {
     "data": {
      "text/plain": [
       "(603, 16)"
      ]
     },
     "execution_count": 59,
     "metadata": {},
     "output_type": "execute_result"
    }
   ],
   "source": [
    "# df row and columns\n",
    "business.shape\n"
   ]
  },
  {
   "cell_type": "code",
   "execution_count": 60,
   "metadata": {},
   "outputs": [
    {
     "data": {
      "text/plain": [
       "business_id        object\n",
       "name               object\n",
       "addl1              object\n",
       "addl2              object\n",
       "city               object\n",
       "state              object\n",
       "zip                object\n",
       "neighborhoods      object\n",
       "open                 bool\n",
       "review_count        int64\n",
       "stars             float64\n",
       "Delivery           object\n",
       "Take-out           object\n",
       "Waiter Service     object\n",
       "longitude         float64\n",
       "latitude          float64\n",
       "dtype: object"
      ]
     },
     "execution_count": 60,
     "metadata": {},
     "output_type": "execute_result"
    }
   ],
   "source": [
    "business.dtypes"
   ]
  },
  {
   "cell_type": "code",
   "execution_count": 61,
   "metadata": {},
   "outputs": [
    {
     "data": {
      "text/html": [
       "<div>\n",
       "<style>\n",
       "    .dataframe thead tr:only-child th {\n",
       "        text-align: right;\n",
       "    }\n",
       "\n",
       "    .dataframe thead th {\n",
       "        text-align: left;\n",
       "    }\n",
       "\n",
       "    .dataframe tbody tr th {\n",
       "        vertical-align: top;\n",
       "    }\n",
       "</style>\n",
       "<table border=\"1\" class=\"dataframe\">\n",
       "  <thead>\n",
       "    <tr style=\"text-align: right;\">\n",
       "      <th></th>\n",
       "      <th>business_id</th>\n",
       "      <th>name</th>\n",
       "      <th>addl1</th>\n",
       "      <th>addl2</th>\n",
       "      <th>city</th>\n",
       "      <th>state</th>\n",
       "      <th>zip</th>\n",
       "      <th>neighborhoods</th>\n",
       "      <th>open</th>\n",
       "      <th>stars</th>\n",
       "      <th>Delivery</th>\n",
       "      <th>Take-out</th>\n",
       "      <th>Waiter Service</th>\n",
       "      <th>longitude</th>\n",
       "      <th>latitude</th>\n",
       "    </tr>\n",
       "    <tr>\n",
       "      <th>review_count</th>\n",
       "      <th></th>\n",
       "      <th></th>\n",
       "      <th></th>\n",
       "      <th></th>\n",
       "      <th></th>\n",
       "      <th></th>\n",
       "      <th></th>\n",
       "      <th></th>\n",
       "      <th></th>\n",
       "      <th></th>\n",
       "      <th></th>\n",
       "      <th></th>\n",
       "      <th></th>\n",
       "      <th></th>\n",
       "      <th></th>\n",
       "    </tr>\n",
       "  </thead>\n",
       "  <tbody>\n",
       "    <tr>\n",
       "      <th>4578</th>\n",
       "      <td>4bEjOyTaDG24SY5TxsaUNQ</td>\n",
       "      <td>Mon Ami Gabi</td>\n",
       "      <td>3655 Las Vegas Blvd S</td>\n",
       "      <td>The Strip</td>\n",
       "      <td>Las Vegas</td>\n",
       "      <td>NV</td>\n",
       "      <td>89109</td>\n",
       "      <td>The Strip</td>\n",
       "      <td>True</td>\n",
       "      <td>4.0</td>\n",
       "      <td>No</td>\n",
       "      <td>No</td>\n",
       "      <td>Yes</td>\n",
       "      <td>-115.172589</td>\n",
       "      <td>36.112952</td>\n",
       "    </tr>\n",
       "    <tr>\n",
       "      <th>3984</th>\n",
       "      <td>2e2e7WgqU1BnpxmQL5jbfw</td>\n",
       "      <td>Earl of Sandwich</td>\n",
       "      <td>3667 Las Vegas Blvd. S.</td>\n",
       "      <td>Planet Hollywood Resort &amp; Casino</td>\n",
       "      <td>Las Vegas</td>\n",
       "      <td>NV</td>\n",
       "      <td>89109</td>\n",
       "      <td>The Strip</td>\n",
       "      <td>True</td>\n",
       "      <td>4.5</td>\n",
       "      <td>No</td>\n",
       "      <td>Yes</td>\n",
       "      <td>No</td>\n",
       "      <td>-115.170553</td>\n",
       "      <td>36.110266</td>\n",
       "    </tr>\n",
       "    <tr>\n",
       "      <th>3828</th>\n",
       "      <td>zt1TpTuJ6y9n551sw9TaEg</td>\n",
       "      <td>Wicked Spoon</td>\n",
       "      <td>The Cosmopolitan of Las Vegas</td>\n",
       "      <td>3708 Las Vegas Blvd S</td>\n",
       "      <td>Las Vegas</td>\n",
       "      <td>NV</td>\n",
       "      <td>89109</td>\n",
       "      <td>The Strip</td>\n",
       "      <td>True</td>\n",
       "      <td>3.5</td>\n",
       "      <td>No</td>\n",
       "      <td>No</td>\n",
       "      <td>Yes</td>\n",
       "      <td>-115.175164</td>\n",
       "      <td>36.109876</td>\n",
       "    </tr>\n",
       "    <tr>\n",
       "      <th>3046</th>\n",
       "      <td>sIyHTizqAiGu12XMLX3N3g</td>\n",
       "      <td>Bacchanal Buffet</td>\n",
       "      <td>Caesars Palace Las Vegas Hotel &amp; Casino</td>\n",
       "      <td>3570 Las Vegas Boulevard South</td>\n",
       "      <td>Las Vegas</td>\n",
       "      <td>NV</td>\n",
       "      <td>89109</td>\n",
       "      <td>The Strip</td>\n",
       "      <td>True</td>\n",
       "      <td>4.0</td>\n",
       "      <td>No</td>\n",
       "      <td>No</td>\n",
       "      <td>Yes</td>\n",
       "      <td>-115.176174</td>\n",
       "      <td>36.115854</td>\n",
       "    </tr>\n",
       "    <tr>\n",
       "      <th>3007</th>\n",
       "      <td>Xhg93cMdemu5pAMkDoEdtQ</td>\n",
       "      <td>Serendipity 3</td>\n",
       "      <td>3570 Las Vegas Blvd S</td>\n",
       "      <td>The Strip</td>\n",
       "      <td>Las Vegas</td>\n",
       "      <td>NV</td>\n",
       "      <td>89109</td>\n",
       "      <td>The Strip</td>\n",
       "      <td>True</td>\n",
       "      <td>3.0</td>\n",
       "      <td>No</td>\n",
       "      <td>Yes</td>\n",
       "      <td>Yes</td>\n",
       "      <td>-115.173317</td>\n",
       "      <td>36.115670</td>\n",
       "    </tr>\n",
       "    <tr>\n",
       "      <th>2949</th>\n",
       "      <td>YNQgak-ZLtYJQxlDwN-qIg</td>\n",
       "      <td>The Buffet</td>\n",
       "      <td>Wynn Las Vegas</td>\n",
       "      <td>3131 Las Vegas Blvd S</td>\n",
       "      <td>Las Vegas</td>\n",
       "      <td>NV</td>\n",
       "      <td>89109</td>\n",
       "      <td>The Strip</td>\n",
       "      <td>True</td>\n",
       "      <td>3.5</td>\n",
       "      <td>No</td>\n",
       "      <td>No</td>\n",
       "      <td>Yes</td>\n",
       "      <td>-115.165590</td>\n",
       "      <td>36.126887</td>\n",
       "    </tr>\n",
       "    <tr>\n",
       "      <th>2593</th>\n",
       "      <td>tFU2Js_nbIZOrnKfYJYBBg</td>\n",
       "      <td>Bouchon Bistro</td>\n",
       "      <td>The Venetian Resort Hotel &amp; Casino</td>\n",
       "      <td></td>\n",
       "      <td>Las Vegas</td>\n",
       "      <td>NV</td>\n",
       "      <td>10\\nThe</td>\n",
       "      <td>The Strip</td>\n",
       "      <td>True</td>\n",
       "      <td>4.0</td>\n",
       "      <td>No</td>\n",
       "      <td>No</td>\n",
       "      <td>Yes</td>\n",
       "      <td>-115.170279</td>\n",
       "      <td>36.122293</td>\n",
       "    </tr>\n",
       "    <tr>\n",
       "      <th>2583</th>\n",
       "      <td>CZjcFdvJhksq9dy58NVEzw</td>\n",
       "      <td>The Buffet at Bellagio</td>\n",
       "      <td>Bellagio Las Vegas</td>\n",
       "      <td>3600 S Las Vegas Blvd</td>\n",
       "      <td>Las Vegas</td>\n",
       "      <td>NV</td>\n",
       "      <td>89109</td>\n",
       "      <td>The Strip</td>\n",
       "      <td>True</td>\n",
       "      <td>3.5</td>\n",
       "      <td>No</td>\n",
       "      <td>No</td>\n",
       "      <td>Yes</td>\n",
       "      <td>-115.176409</td>\n",
       "      <td>36.113160</td>\n",
       "    </tr>\n",
       "    <tr>\n",
       "      <th>2537</th>\n",
       "      <td>aGbjLWzcrnEx2ZmMCFm3EA</td>\n",
       "      <td>Gordon Ramsay BurGR</td>\n",
       "      <td>Planet Hollywood Las Vegas Resort &amp; Casino</td>\n",
       "      <td>3667 Las Vegas Blvd S</td>\n",
       "      <td>Las Vegas</td>\n",
       "      <td>NV</td>\n",
       "      <td>89109</td>\n",
       "      <td>The Strip</td>\n",
       "      <td>True</td>\n",
       "      <td>4.0</td>\n",
       "      <td>No</td>\n",
       "      <td>Yes</td>\n",
       "      <td>Yes</td>\n",
       "      <td>-115.172338</td>\n",
       "      <td>36.110108</td>\n",
       "    </tr>\n",
       "    <tr>\n",
       "      <th>2143</th>\n",
       "      <td>DO3Gk17RyJVW7zYMCtYPnw</td>\n",
       "      <td>Mesa Grill</td>\n",
       "      <td>Caesars Palace Las Vegas Hotel &amp; Casino</td>\n",
       "      <td>3570 Las Vegas Boulevard South</td>\n",
       "      <td>Las Vegas</td>\n",
       "      <td>NV</td>\n",
       "      <td>89109</td>\n",
       "      <td>The Strip</td>\n",
       "      <td>True</td>\n",
       "      <td>4.0</td>\n",
       "      <td>No</td>\n",
       "      <td>No</td>\n",
       "      <td>Yes</td>\n",
       "      <td>-115.171051</td>\n",
       "      <td>36.125951</td>\n",
       "    </tr>\n",
       "  </tbody>\n",
       "</table>\n",
       "</div>"
      ],
      "text/plain": [
       "                         business_id                    name  \\\n",
       "review_count                                                   \n",
       "4578          4bEjOyTaDG24SY5TxsaUNQ            Mon Ami Gabi   \n",
       "3984          2e2e7WgqU1BnpxmQL5jbfw        Earl of Sandwich   \n",
       "3828          zt1TpTuJ6y9n551sw9TaEg            Wicked Spoon   \n",
       "3046          sIyHTizqAiGu12XMLX3N3g        Bacchanal Buffet   \n",
       "3007          Xhg93cMdemu5pAMkDoEdtQ           Serendipity 3   \n",
       "2949          YNQgak-ZLtYJQxlDwN-qIg              The Buffet   \n",
       "2593          tFU2Js_nbIZOrnKfYJYBBg          Bouchon Bistro   \n",
       "2583          CZjcFdvJhksq9dy58NVEzw  The Buffet at Bellagio   \n",
       "2537          aGbjLWzcrnEx2ZmMCFm3EA     Gordon Ramsay BurGR   \n",
       "2143          DO3Gk17RyJVW7zYMCtYPnw              Mesa Grill   \n",
       "\n",
       "                                                   addl1  \\\n",
       "review_count                                               \n",
       "4578                               3655 Las Vegas Blvd S   \n",
       "3984                             3667 Las Vegas Blvd. S.   \n",
       "3828                       The Cosmopolitan of Las Vegas   \n",
       "3046             Caesars Palace Las Vegas Hotel & Casino   \n",
       "3007                               3570 Las Vegas Blvd S   \n",
       "2949                                      Wynn Las Vegas   \n",
       "2593                  The Venetian Resort Hotel & Casino   \n",
       "2583                                  Bellagio Las Vegas   \n",
       "2537          Planet Hollywood Las Vegas Resort & Casino   \n",
       "2143             Caesars Palace Las Vegas Hotel & Casino   \n",
       "\n",
       "                                         addl2       city state      zip  \\\n",
       "review_count                                                               \n",
       "4578                                 The Strip  Las Vegas    NV    89109   \n",
       "3984          Planet Hollywood Resort & Casino  Las Vegas    NV    89109   \n",
       "3828                     3708 Las Vegas Blvd S  Las Vegas    NV    89109   \n",
       "3046            3570 Las Vegas Boulevard South  Las Vegas    NV    89109   \n",
       "3007                                 The Strip  Las Vegas    NV    89109   \n",
       "2949                     3131 Las Vegas Blvd S  Las Vegas    NV    89109   \n",
       "2593                                            Las Vegas    NV  10\\nThe   \n",
       "2583                     3600 S Las Vegas Blvd  Las Vegas    NV    89109   \n",
       "2537                     3667 Las Vegas Blvd S  Las Vegas    NV    89109   \n",
       "2143            3570 Las Vegas Boulevard South  Las Vegas    NV    89109   \n",
       "\n",
       "             neighborhoods  open  stars Delivery Take-out Waiter Service  \\\n",
       "review_count                                                               \n",
       "4578             The Strip  True    4.0       No       No            Yes   \n",
       "3984             The Strip  True    4.5       No      Yes             No   \n",
       "3828             The Strip  True    3.5       No       No            Yes   \n",
       "3046             The Strip  True    4.0       No       No            Yes   \n",
       "3007             The Strip  True    3.0       No      Yes            Yes   \n",
       "2949             The Strip  True    3.5       No       No            Yes   \n",
       "2593             The Strip  True    4.0       No       No            Yes   \n",
       "2583             The Strip  True    3.5       No       No            Yes   \n",
       "2537             The Strip  True    4.0       No      Yes            Yes   \n",
       "2143             The Strip  True    4.0       No       No            Yes   \n",
       "\n",
       "               longitude   latitude  \n",
       "review_count                         \n",
       "4578         -115.172589  36.112952  \n",
       "3984         -115.170553  36.110266  \n",
       "3828         -115.175164  36.109876  \n",
       "3046         -115.176174  36.115854  \n",
       "3007         -115.173317  36.115670  \n",
       "2949         -115.165590  36.126887  \n",
       "2593         -115.170279  36.122293  \n",
       "2583         -115.176409  36.113160  \n",
       "2537         -115.172338  36.110108  \n",
       "2143         -115.171051  36.125951  "
      ]
     },
     "execution_count": 61,
     "metadata": {},
     "output_type": "execute_result"
    }
   ],
   "source": [
    "# see what the data looks like\n",
    "\n",
    "indexed_reviewcount = business.set_index(['review_count'])\n",
    "indexed_reviewcount.sort_index(axis=0, level=None, ascending=False, inplace=False, kind='quicksort', na_position='last', sort_remaining=True, by=None).head(10)\n",
    "                                      "
   ]
  },
  {
   "cell_type": "markdown",
   "metadata": {},
   "source": [
    "#### Part 2: Edges"
   ]
  },
  {
   "cell_type": "code",
   "execution_count": 62,
   "metadata": {},
   "outputs": [
    {
     "data": {
      "text/plain": [
       "source              object\n",
       "target              object\n",
       "total_reviews.x      int64\n",
       "rating_sum.x         int64\n",
       "mean_rating.x      float64\n",
       "total_reviews.y      int64\n",
       "rating_sum.y         int64\n",
       "mean_rating.y      float64\n",
       "n                    int64\n",
       "mean_rating        float64\n",
       "dtype: object"
      ]
     },
     "execution_count": 62,
     "metadata": {},
     "output_type": "execute_result"
    }
   ],
   "source": [
    "# import the business edgelist \n",
    "\n",
    "#file = \"https://raw.githubusercontent.com/kfolsom98/DATA620/master/Project1/data/edgelist_2015.csv\"\n",
    "file = \"https://raw.githubusercontent.com/kfolsom98/DATA620/master/Project1/data/edgelist_2014_2015.csv\"\n",
    "\n",
    "edges = pd.read_csv(file,  header=0)\n",
    "\n",
    "edges.dtypes"
   ]
  },
  {
   "cell_type": "code",
   "execution_count": 63,
   "metadata": {},
   "outputs": [
    {
     "data": {
      "text/html": [
       "<div>\n",
       "<style>\n",
       "    .dataframe thead tr:only-child th {\n",
       "        text-align: right;\n",
       "    }\n",
       "\n",
       "    .dataframe thead th {\n",
       "        text-align: left;\n",
       "    }\n",
       "\n",
       "    .dataframe tbody tr th {\n",
       "        vertical-align: top;\n",
       "    }\n",
       "</style>\n",
       "<table border=\"1\" class=\"dataframe\">\n",
       "  <thead>\n",
       "    <tr style=\"text-align: right;\">\n",
       "      <th></th>\n",
       "      <th>source</th>\n",
       "      <th>target</th>\n",
       "      <th>total_reviews.x</th>\n",
       "      <th>rating_sum.x</th>\n",
       "      <th>mean_rating.x</th>\n",
       "      <th>total_reviews.y</th>\n",
       "      <th>rating_sum.y</th>\n",
       "      <th>mean_rating.y</th>\n",
       "      <th>n</th>\n",
       "      <th>mean_rating</th>\n",
       "    </tr>\n",
       "  </thead>\n",
       "  <tbody>\n",
       "    <tr>\n",
       "      <th>0</th>\n",
       "      <td>AG3jFaQcABSFF-ry3l5t5g</td>\n",
       "      <td>s5-VDvUqyYnD8RG3LPqnbQ</td>\n",
       "      <td>4</td>\n",
       "      <td>11</td>\n",
       "      <td>2.750000</td>\n",
       "      <td>539</td>\n",
       "      <td>2057</td>\n",
       "      <td>3.816327</td>\n",
       "      <td>543</td>\n",
       "      <td>3.808471</td>\n",
       "    </tr>\n",
       "    <tr>\n",
       "      <th>1</th>\n",
       "      <td>AG3jFaQcABSFF-ry3l5t5g</td>\n",
       "      <td>glmwOs55H49Q_D8ENZtqYQ</td>\n",
       "      <td>4</td>\n",
       "      <td>11</td>\n",
       "      <td>2.750000</td>\n",
       "      <td>88</td>\n",
       "      <td>272</td>\n",
       "      <td>3.090909</td>\n",
       "      <td>92</td>\n",
       "      <td>3.076087</td>\n",
       "    </tr>\n",
       "    <tr>\n",
       "      <th>2</th>\n",
       "      <td>AG3jFaQcABSFF-ry3l5t5g</td>\n",
       "      <td>BqrTtox0JbG-P_DKBB5bBw</td>\n",
       "      <td>4</td>\n",
       "      <td>11</td>\n",
       "      <td>2.750000</td>\n",
       "      <td>453</td>\n",
       "      <td>1734</td>\n",
       "      <td>3.827815</td>\n",
       "      <td>457</td>\n",
       "      <td>3.818381</td>\n",
       "    </tr>\n",
       "    <tr>\n",
       "      <th>3</th>\n",
       "      <td>AG3jFaQcABSFF-ry3l5t5g</td>\n",
       "      <td>3fV9sL5LklD9ZSeONKmjkw</td>\n",
       "      <td>4</td>\n",
       "      <td>11</td>\n",
       "      <td>2.750000</td>\n",
       "      <td>159</td>\n",
       "      <td>519</td>\n",
       "      <td>3.264151</td>\n",
       "      <td>163</td>\n",
       "      <td>3.251534</td>\n",
       "    </tr>\n",
       "    <tr>\n",
       "      <th>4</th>\n",
       "      <td>AG3jFaQcABSFF-ry3l5t5g</td>\n",
       "      <td>MnoF8A3UAghzXKSunNSn2Q</td>\n",
       "      <td>4</td>\n",
       "      <td>11</td>\n",
       "      <td>2.750000</td>\n",
       "      <td>9</td>\n",
       "      <td>23</td>\n",
       "      <td>2.555556</td>\n",
       "      <td>13</td>\n",
       "      <td>2.615385</td>\n",
       "    </tr>\n",
       "    <tr>\n",
       "      <th>5</th>\n",
       "      <td>Zlv0RZR5cFS5NzeXteuUjg</td>\n",
       "      <td>Gvw2ewUbqq7PWkxKwjqifA</td>\n",
       "      <td>3</td>\n",
       "      <td>11</td>\n",
       "      <td>3.666667</td>\n",
       "      <td>125</td>\n",
       "      <td>512</td>\n",
       "      <td>4.096000</td>\n",
       "      <td>128</td>\n",
       "      <td>4.085938</td>\n",
       "    </tr>\n",
       "    <tr>\n",
       "      <th>6</th>\n",
       "      <td>Zlv0RZR5cFS5NzeXteuUjg</td>\n",
       "      <td>QbmcCE_cLq4WO8ZMKImaLw</td>\n",
       "      <td>3</td>\n",
       "      <td>11</td>\n",
       "      <td>3.666667</td>\n",
       "      <td>666</td>\n",
       "      <td>2567</td>\n",
       "      <td>3.854354</td>\n",
       "      <td>669</td>\n",
       "      <td>3.853513</td>\n",
       "    </tr>\n",
       "    <tr>\n",
       "      <th>7</th>\n",
       "      <td>Zlv0RZR5cFS5NzeXteuUjg</td>\n",
       "      <td>V9euJerhCkh7PXKjtsE2rQ</td>\n",
       "      <td>3</td>\n",
       "      <td>11</td>\n",
       "      <td>3.666667</td>\n",
       "      <td>74</td>\n",
       "      <td>297</td>\n",
       "      <td>4.013514</td>\n",
       "      <td>77</td>\n",
       "      <td>4.000000</td>\n",
       "    </tr>\n",
       "    <tr>\n",
       "      <th>8</th>\n",
       "      <td>Zlv0RZR5cFS5NzeXteuUjg</td>\n",
       "      <td>2e2e7WgqU1BnpxmQL5jbfw</td>\n",
       "      <td>3</td>\n",
       "      <td>11</td>\n",
       "      <td>3.666667</td>\n",
       "      <td>629</td>\n",
       "      <td>2537</td>\n",
       "      <td>4.033386</td>\n",
       "      <td>632</td>\n",
       "      <td>4.031646</td>\n",
       "    </tr>\n",
       "    <tr>\n",
       "      <th>9</th>\n",
       "      <td>Zlv0RZR5cFS5NzeXteuUjg</td>\n",
       "      <td>Pz7SWZQhxL6ZbhL9jE2NTA</td>\n",
       "      <td>3</td>\n",
       "      <td>11</td>\n",
       "      <td>3.666667</td>\n",
       "      <td>131</td>\n",
       "      <td>521</td>\n",
       "      <td>3.977099</td>\n",
       "      <td>134</td>\n",
       "      <td>3.970149</td>\n",
       "    </tr>\n",
       "  </tbody>\n",
       "</table>\n",
       "</div>"
      ],
      "text/plain": [
       "                   source                  target  total_reviews.x  \\\n",
       "0  AG3jFaQcABSFF-ry3l5t5g  s5-VDvUqyYnD8RG3LPqnbQ                4   \n",
       "1  AG3jFaQcABSFF-ry3l5t5g  glmwOs55H49Q_D8ENZtqYQ                4   \n",
       "2  AG3jFaQcABSFF-ry3l5t5g  BqrTtox0JbG-P_DKBB5bBw                4   \n",
       "3  AG3jFaQcABSFF-ry3l5t5g  3fV9sL5LklD9ZSeONKmjkw                4   \n",
       "4  AG3jFaQcABSFF-ry3l5t5g  MnoF8A3UAghzXKSunNSn2Q                4   \n",
       "5  Zlv0RZR5cFS5NzeXteuUjg  Gvw2ewUbqq7PWkxKwjqifA                3   \n",
       "6  Zlv0RZR5cFS5NzeXteuUjg  QbmcCE_cLq4WO8ZMKImaLw                3   \n",
       "7  Zlv0RZR5cFS5NzeXteuUjg  V9euJerhCkh7PXKjtsE2rQ                3   \n",
       "8  Zlv0RZR5cFS5NzeXteuUjg  2e2e7WgqU1BnpxmQL5jbfw                3   \n",
       "9  Zlv0RZR5cFS5NzeXteuUjg  Pz7SWZQhxL6ZbhL9jE2NTA                3   \n",
       "\n",
       "   rating_sum.x  mean_rating.x  total_reviews.y  rating_sum.y  mean_rating.y  \\\n",
       "0            11       2.750000              539          2057       3.816327   \n",
       "1            11       2.750000               88           272       3.090909   \n",
       "2            11       2.750000              453          1734       3.827815   \n",
       "3            11       2.750000              159           519       3.264151   \n",
       "4            11       2.750000                9            23       2.555556   \n",
       "5            11       3.666667              125           512       4.096000   \n",
       "6            11       3.666667              666          2567       3.854354   \n",
       "7            11       3.666667               74           297       4.013514   \n",
       "8            11       3.666667              629          2537       4.033386   \n",
       "9            11       3.666667              131           521       3.977099   \n",
       "\n",
       "     n  mean_rating  \n",
       "0  543     3.808471  \n",
       "1   92     3.076087  \n",
       "2  457     3.818381  \n",
       "3  163     3.251534  \n",
       "4   13     2.615385  \n",
       "5  128     4.085938  \n",
       "6  669     3.853513  \n",
       "7   77     4.000000  \n",
       "8  632     4.031646  \n",
       "9  134     3.970149  "
      ]
     },
     "execution_count": 63,
     "metadata": {},
     "output_type": "execute_result"
    }
   ],
   "source": [
    "# see what the data looks like\n",
    "edges.head(10)"
   ]
  },
  {
   "cell_type": "code",
   "execution_count": 64,
   "metadata": {
    "collapsed": true
   },
   "outputs": [],
   "source": [
    "# take soure, target, and mean_rating for the weight\n",
    "edgeslist = edges[['source','target', 'mean_rating']]"
   ]
  },
  {
   "cell_type": "markdown",
   "metadata": {},
   "source": [
    "### Graph Creation  \n",
    "\n",
    "We will build the graph with business as nodes, we will add the following attributes; name, ratings, Delivery, Take-out, Waiter Service.  \n"
   ]
  },
  {
   "cell_type": "code",
   "execution_count": 65,
   "metadata": {},
   "outputs": [
    {
     "name": "stdout",
     "output_type": "stream",
     "text": [
      "Name: \n",
      "Type: Graph\n",
      "Number of nodes: 603\n",
      "Number of edges: 0\n",
      "Average degree:   0.0000\n"
     ]
    }
   ],
   "source": [
    "G=nx.Graph()\n",
    "\n",
    "# add each business in The Strip neighborhood as a node\n",
    "# set node attributes: name, zip, delivery, takeout, and waiter service \n",
    "#                 \n",
    "\n",
    "for index, row in business.iterrows():\n",
    "\n",
    "    G.add_node(row['business_id'], \n",
    "               name=row['name'], \n",
    "               rating=row['stars'],\n",
    "               delivery=row['Delivery'], \n",
    "               takeout=row['Take-out'], \n",
    "               waiterservice=row['Waiter Service'])\n",
    "\n",
    "\n",
    "print(nx.info(G))"
   ]
  },
  {
   "cell_type": "code",
   "execution_count": 66,
   "metadata": {
    "collapsed": true
   },
   "outputs": [],
   "source": [
    "# add weighted edges \n",
    "\n",
    "G.add_weighted_edges_from([tuple(x) for x in edgeslist.values])"
   ]
  },
  {
   "cell_type": "markdown",
   "metadata": {
    "collapsed": true
   },
   "source": [
    "#### Basic Graph information & plot"
   ]
  },
  {
   "cell_type": "code",
   "execution_count": 67,
   "metadata": {},
   "outputs": [
    {
     "name": "stdout",
     "output_type": "stream",
     "text": [
      "Name: \n",
      "Type: Graph\n",
      "Number of nodes: 629\n",
      "Number of edges: 19460\n",
      "Average degree:  61.8760\n",
      "Graph density: 0.0985286522941\n",
      "Is connected: False\n"
     ]
    }
   ],
   "source": [
    "print(nx.info(G))\n",
    "print('Graph density: ' + str(nx.density(G)))\n",
    "print('Is connected: ' + str(nx.is_connected(G)))"
   ]
  },
  {
   "cell_type": "markdown",
   "metadata": {},
   "source": [
    "From the basic information, we can see that we have a high number of edges but a relatively low number of nodes. We surmise that we have possibly a \"short-list\" of restaurants that are highly reviewed.  \n",
    "\n",
    "We will now draw the plot for the graph.  "
   ]
  },
  {
   "cell_type": "code",
   "execution_count": 68,
   "metadata": {},
   "outputs": [
    {
     "data": {
      "image/png": "[encoded data removed]",
      "text/plain": [
       "<matplotlib.figure.Figure at 0x103c50b8>"
      ]
     },
     "metadata": {},
     "output_type": "display_data"
    }
   ],
   "source": [
    "# plot network \n",
    "spring_pos = nx.spring_layout(G)\n",
    "\n",
    "plt.axis(\"off\")\n",
    "nx.draw_networkx(G, pos = spring_pos, with_labels = False, node_size = 35)"
   ]
  },
  {
   "cell_type": "markdown",
   "metadata": {},
   "source": [
    "We see from the plot that we have a bunch of nodes that are highly connected and another set of nodes that have very few if any connections.  \n",
    "\n",
    "Let us look at the degree centrality to determine the range of degrees for the nodes in the graph.  \n"
   ]
  },
  {
   "cell_type": "markdown",
   "metadata": {},
   "source": [
    "#### Degree Centrality for entire graph  "
   ]
  },
  {
   "cell_type": "code",
   "execution_count": 69,
   "metadata": {},
   "outputs": [
    {
     "name": "stdout",
     "output_type": "stream",
     "text": [
      "Degree Range: 0 328\n"
     ]
    }
   ],
   "source": [
    "#Compute Degree\n",
    "deg=nx.degree(G)\n",
    "\n",
    "print('Degree Range: ' + str(min(deg.values())) + ' ' + str(max(deg.values()))) "
   ]
  },
  {
   "cell_type": "markdown",
   "metadata": {},
   "source": [
    "This represent quite a spread.  We will drop from the graph nodes with degree less than 25.  "
   ]
  },
  {
   "cell_type": "markdown",
   "metadata": {},
   "source": [
    "### Subgraph for Analysis"
   ]
  },
  {
   "cell_type": "code",
   "execution_count": 70,
   "metadata": {
    "collapsed": true
   },
   "outputs": [],
   "source": [
    "#https://glowingpython.blogspot.com/search?q=networkx\n",
    "\n",
    "def trim_nodes(G,d):\n",
    " \"\"\" returns a copy of G without the nodes with a degree less than d \"\"\"\n",
    " Gt = G.copy()\n",
    " dn = nx.degree(Gt)\n",
    " for n in Gt.nodes():\n",
    "  if dn[n] <= d:\n",
    "   Gt.remove_node(n)\n",
    " return Gt\n",
    "\n",
    "# Trim the network to nodes with a minimum degree of 25\n",
    "Gt = trim_nodes(G, 25)"
   ]
  },
  {
   "cell_type": "markdown",
   "metadata": {},
   "source": [
    "The rest of the analysis will be done on this subgraph.  "
   ]
  },
  {
   "cell_type": "markdown",
   "metadata": {},
   "source": [
    "#### Basic subgraph information and plot"
   ]
  },
  {
   "cell_type": "code",
   "execution_count": 71,
   "metadata": {},
   "outputs": [
    {
     "name": "stdout",
     "output_type": "stream",
     "text": [
      "Name: \n",
      "Type: Graph\n",
      "Number of nodes: 337\n",
      "Number of edges: 17972\n",
      "Average degree: 106.6588\n",
      "Graph density: 0.317436766992\n",
      "Is connected: True\n"
     ]
    }
   ],
   "source": [
    "print(nx.info(Gt))\n",
    "print('Graph density: ' + str(nx.density(Gt)))\n",
    "print('Is connected: ' + str(nx.is_connected(Gt)))"
   ]
  },
  {
   "cell_type": "code",
   "execution_count": 73,
   "metadata": {},
   "outputs": [
    {
     "data": {
      "image/png": "[encoded data removed]",
      "text/plain": [
       "<matplotlib.figure.Figure at 0x12421438>"
      ]
     },
     "metadata": {},
     "output_type": "display_data"
    }
   ],
   "source": [
    "# plot subgraph \n",
    "spring_pos = nx.spring_layout(Gt)\n",
    "\n",
    "plt.axis(\"off\")\n",
    "nx.draw_networkx(Gt, pos = spring_pos, with_labels = False, node_size = 35)"
   ]
  },
  {
   "cell_type": "markdown",
   "metadata": {},
   "source": [
    "#### Determine Centrality Measures"
   ]
  },
  {
   "cell_type": "code",
   "execution_count": 74,
   "metadata": {},
   "outputs": [
    {
     "data": {
      "text/html": [
       "<div>\n",
       "<style>\n",
       "    .dataframe thead tr:only-child th {\n",
       "        text-align: right;\n",
       "    }\n",
       "\n",
       "    .dataframe thead th {\n",
       "        text-align: left;\n",
       "    }\n",
       "\n",
       "    .dataframe tbody tr th {\n",
       "        vertical-align: top;\n",
       "    }\n",
       "</style>\n",
       "<table border=\"1\" class=\"dataframe\">\n",
       "  <thead>\n",
       "    <tr style=\"text-align: right;\">\n",
       "      <th></th>\n",
       "      <th>betweenness</th>\n",
       "      <th>closeness</th>\n",
       "      <th>degree</th>\n",
       "      <th>eigenvector</th>\n",
       "    </tr>\n",
       "  </thead>\n",
       "  <tbody>\n",
       "    <tr>\n",
       "      <th>sIyHTizqAiGu12XMLX3N3g</th>\n",
       "      <td>0.021574</td>\n",
       "      <td>0.900804</td>\n",
       "      <td>0.889881</td>\n",
       "      <td>0.117351</td>\n",
       "    </tr>\n",
       "    <tr>\n",
       "      <th>aGbjLWzcrnEx2ZmMCFm3EA</th>\n",
       "      <td>0.019791</td>\n",
       "      <td>0.868217</td>\n",
       "      <td>0.848214</td>\n",
       "      <td>0.114796</td>\n",
       "    </tr>\n",
       "    <tr>\n",
       "      <th>4bEjOyTaDG24SY5TxsaUNQ</th>\n",
       "      <td>0.017573</td>\n",
       "      <td>0.861538</td>\n",
       "      <td>0.839286</td>\n",
       "      <td>0.121946</td>\n",
       "    </tr>\n",
       "    <tr>\n",
       "      <th>zt1TpTuJ6y9n551sw9TaEg</th>\n",
       "      <td>0.015763</td>\n",
       "      <td>0.850633</td>\n",
       "      <td>0.824405</td>\n",
       "      <td>0.106816</td>\n",
       "    </tr>\n",
       "    <tr>\n",
       "      <th>2e2e7WgqU1BnpxmQL5jbfw</th>\n",
       "      <td>0.015060</td>\n",
       "      <td>0.837905</td>\n",
       "      <td>0.806548</td>\n",
       "      <td>0.115464</td>\n",
       "    </tr>\n",
       "    <tr>\n",
       "      <th>ateowLnq6kpgNNWHzCDByQ</th>\n",
       "      <td>0.014169</td>\n",
       "      <td>0.821516</td>\n",
       "      <td>0.782738</td>\n",
       "      <td>0.107515</td>\n",
       "    </tr>\n",
       "    <tr>\n",
       "      <th>Xhg93cMdemu5pAMkDoEdtQ</th>\n",
       "      <td>0.013013</td>\n",
       "      <td>0.813559</td>\n",
       "      <td>0.770833</td>\n",
       "      <td>0.088475</td>\n",
       "    </tr>\n",
       "    <tr>\n",
       "      <th>BqrTtox0JbG-P_DKBB5bBw</th>\n",
       "      <td>0.012047</td>\n",
       "      <td>0.805755</td>\n",
       "      <td>0.758929</td>\n",
       "      <td>0.107834</td>\n",
       "    </tr>\n",
       "    <tr>\n",
       "      <th>tFU2Js_nbIZOrnKfYJYBBg</th>\n",
       "      <td>0.009423</td>\n",
       "      <td>0.788732</td>\n",
       "      <td>0.732143</td>\n",
       "      <td>0.106701</td>\n",
       "    </tr>\n",
       "    <tr>\n",
       "      <th>s5-VDvUqyYnD8RG3LPqnbQ</th>\n",
       "      <td>0.009490</td>\n",
       "      <td>0.785047</td>\n",
       "      <td>0.726190</td>\n",
       "      <td>0.105339</td>\n",
       "    </tr>\n",
       "  </tbody>\n",
       "</table>\n",
       "</div>"
      ],
      "text/plain": [
       "                        betweenness  closeness    degree  eigenvector\n",
       "sIyHTizqAiGu12XMLX3N3g     0.021574   0.900804  0.889881     0.117351\n",
       "aGbjLWzcrnEx2ZmMCFm3EA     0.019791   0.868217  0.848214     0.114796\n",
       "4bEjOyTaDG24SY5TxsaUNQ     0.017573   0.861538  0.839286     0.121946\n",
       "zt1TpTuJ6y9n551sw9TaEg     0.015763   0.850633  0.824405     0.106816\n",
       "2e2e7WgqU1BnpxmQL5jbfw     0.015060   0.837905  0.806548     0.115464\n",
       "ateowLnq6kpgNNWHzCDByQ     0.014169   0.821516  0.782738     0.107515\n",
       "Xhg93cMdemu5pAMkDoEdtQ     0.013013   0.813559  0.770833     0.088475\n",
       "BqrTtox0JbG-P_DKBB5bBw     0.012047   0.805755  0.758929     0.107834\n",
       "tFU2Js_nbIZOrnKfYJYBBg     0.009423   0.788732  0.732143     0.106701\n",
       "s5-VDvUqyYnD8RG3LPqnbQ     0.009490   0.785047  0.726190     0.105339"
      ]
     },
     "execution_count": 74,
     "metadata": {},
     "output_type": "execute_result"
    }
   ],
   "source": [
    "# Calculate Centrality Measures \n",
    "\n",
    "## Degree Centrality\n",
    "deg = nx.degree_centrality(Gt)\n",
    "\n",
    "## Betweeness Centrality\n",
    "bet = nx.betweenness_centrality(Gt)\n",
    "\n",
    "# Closeness Centrality\n",
    "clos = nx.closeness_centrality(Gt)\n",
    "\n",
    "## Eigenvector Centrality\n",
    "eig = nx.eigenvector_centrality(Gt)\n",
    "\n",
    "centrality_measures = {\n",
    "    'degree': deg,\n",
    "    'eigenvector': eig,\n",
    "    'betweenness': bet,\n",
    "    'closeness': clos\n",
    "}\n",
    "centrality_df = pd.DataFrame(centrality_measures)\n",
    "\n",
    "#centrality_df\n",
    "\n",
    "centrality_df.sort_values(by=['degree', 'eigenvector'], ascending=[0, 0]).head(10)"
   ]
  },
  {
   "cell_type": "markdown",
   "metadata": {},
   "source": [
    "#### Apply centrality measures to the node "
   ]
  },
  {
   "cell_type": "code",
   "execution_count": 75,
   "metadata": {
    "collapsed": true
   },
   "outputs": [],
   "source": [
    "# Assign each to an attribute in your network\n",
    "nx.set_node_attributes(Gt, 'degree', deg)\n",
    "nx.set_node_attributes(Gt, 'eigenvector', eig)\n",
    "nx.set_node_attributes(Gt, 'betweenness', bet)\n",
    "nx.set_node_attributes(Gt, 'closeness', clos)"
   ]
  },
  {
   "cell_type": "markdown",
   "metadata": {},
   "source": [
    "#### Analysis  \n",
    "\n",
    "Now that we have evaluated the various centrality measures, we will add them as attributes to the nodes in order to facilitate further analysis.  "
   ]
  },
  {
   "cell_type": "code",
   "execution_count": 76,
   "metadata": {
    "collapsed": true
   },
   "outputs": [],
   "source": [
    "# create a data frame of the node attributes including the centrality measures\n",
    "\n",
    "node_attr_df = pd.DataFrame([nx.get_node_attributes(Gt,'name'), \n",
    "                             nx.get_node_attributes(Gt, 'rating'),\n",
    "                             nx.get_node_attributes(Gt,'delivery'),\n",
    "                             nx.get_node_attributes(Gt,'takeout'),\n",
    "                             nx.get_node_attributes(Gt,'waiterservice'),\n",
    "                             nx.get_node_attributes(Gt,'degree'),\n",
    "                             nx.get_node_attributes(Gt,'eigenvector'),\n",
    "                             nx.get_node_attributes(Gt,'betweenness'),\n",
    "                             nx.get_node_attributes(Gt,'closeness')]).transpose()\n",
    "\n",
    "# change column names to appropriate names\n",
    "node_attr_df.columns = ['name', 'rating', 'delivery', 'takeout', 'waiterservice', 'degree', 'eigenvector', 'betweenness', 'closeness']\n",
    "\n",
    "# name the index\n",
    "#node_attr_df.index.names = ['business_id']\n",
    "\n",
    "# make sure centrality measures are numeric\n",
    "node_attr_df = node_attr_df.apply(pd.to_numeric,errors='ignore')\n",
    "\n",
    "# the edgelist introduced a few businesses without rating and other associated information; drop these rows\n",
    "node_attr_df = node_attr_df.dropna() "
   ]
  },
  {
   "cell_type": "code",
   "execution_count": 77,
   "metadata": {},
   "outputs": [
    {
     "data": {
      "text/html": [
       "<div>\n",
       "<style>\n",
       "    .dataframe thead tr:only-child th {\n",
       "        text-align: right;\n",
       "    }\n",
       "\n",
       "    .dataframe thead th {\n",
       "        text-align: left;\n",
       "    }\n",
       "\n",
       "    .dataframe tbody tr th {\n",
       "        vertical-align: top;\n",
       "    }\n",
       "</style>\n",
       "<table border=\"1\" class=\"dataframe\">\n",
       "  <thead>\n",
       "    <tr style=\"text-align: right;\">\n",
       "      <th></th>\n",
       "      <th>name</th>\n",
       "      <th>rating</th>\n",
       "      <th>delivery</th>\n",
       "      <th>takeout</th>\n",
       "      <th>waiterservice</th>\n",
       "      <th>degree</th>\n",
       "      <th>eigenvector</th>\n",
       "      <th>betweenness</th>\n",
       "      <th>closeness</th>\n",
       "    </tr>\n",
       "  </thead>\n",
       "  <tbody>\n",
       "    <tr>\n",
       "      <th>-2n-OHbbwIv3SY8RP9bgTQ</th>\n",
       "      <td>Maggiano's Little Italy</td>\n",
       "      <td>4.0</td>\n",
       "      <td>Yes</td>\n",
       "      <td>Yes</td>\n",
       "      <td>Yes</td>\n",
       "      <td>0.401786</td>\n",
       "      <td>0.061277</td>\n",
       "      <td>0.003080</td>\n",
       "      <td>0.625698</td>\n",
       "    </tr>\n",
       "    <tr>\n",
       "      <th>-5RN56jH78MV2oquLV_G8g</th>\n",
       "      <td>Picasso</td>\n",
       "      <td>4.5</td>\n",
       "      <td>No</td>\n",
       "      <td>No</td>\n",
       "      <td>Yes</td>\n",
       "      <td>0.324405</td>\n",
       "      <td>0.059292</td>\n",
       "      <td>0.000941</td>\n",
       "      <td>0.596803</td>\n",
       "    </tr>\n",
       "    <tr>\n",
       "      <th>-j68F3i6vq1K7Fj9HuncHQ</th>\n",
       "      <td>The SLS Buffet</td>\n",
       "      <td>3.5</td>\n",
       "      <td>No</td>\n",
       "      <td>No</td>\n",
       "      <td>Yes</td>\n",
       "      <td>0.247024</td>\n",
       "      <td>0.043181</td>\n",
       "      <td>0.000446</td>\n",
       "      <td>0.570458</td>\n",
       "    </tr>\n",
       "    <tr>\n",
       "      <th>05tazaFQt1EnQ_Gk_1AFyg</th>\n",
       "      <td>Nine Fine Irishmen</td>\n",
       "      <td>4.0</td>\n",
       "      <td>No</td>\n",
       "      <td>No</td>\n",
       "      <td>Yes</td>\n",
       "      <td>0.407738</td>\n",
       "      <td>0.060474</td>\n",
       "      <td>0.002397</td>\n",
       "      <td>0.628037</td>\n",
       "    </tr>\n",
       "    <tr>\n",
       "      <th>0InQd9vuhRc98OksC3Ks8Q</th>\n",
       "      <td>Buffet Roundtable</td>\n",
       "      <td>2.0</td>\n",
       "      <td>No</td>\n",
       "      <td>No</td>\n",
       "      <td>No</td>\n",
       "      <td>0.145833</td>\n",
       "      <td>0.017459</td>\n",
       "      <td>0.000398</td>\n",
       "      <td>0.539326</td>\n",
       "    </tr>\n",
       "  </tbody>\n",
       "</table>\n",
       "</div>"
      ],
      "text/plain": [
       "                                           name  rating delivery takeout  \\\n",
       "-2n-OHbbwIv3SY8RP9bgTQ  Maggiano's Little Italy     4.0      Yes     Yes   \n",
       "-5RN56jH78MV2oquLV_G8g                  Picasso     4.5       No      No   \n",
       "-j68F3i6vq1K7Fj9HuncHQ           The SLS Buffet     3.5       No      No   \n",
       "05tazaFQt1EnQ_Gk_1AFyg       Nine Fine Irishmen     4.0       No      No   \n",
       "0InQd9vuhRc98OksC3Ks8Q        Buffet Roundtable     2.0       No      No   \n",
       "\n",
       "                       waiterservice    degree  eigenvector  betweenness  \\\n",
       "-2n-OHbbwIv3SY8RP9bgTQ           Yes  0.401786     0.061277     0.003080   \n",
       "-5RN56jH78MV2oquLV_G8g           Yes  0.324405     0.059292     0.000941   \n",
       "-j68F3i6vq1K7Fj9HuncHQ           Yes  0.247024     0.043181     0.000446   \n",
       "05tazaFQt1EnQ_Gk_1AFyg           Yes  0.407738     0.060474     0.002397   \n",
       "0InQd9vuhRc98OksC3Ks8Q            No  0.145833     0.017459     0.000398   \n",
       "\n",
       "                        closeness  \n",
       "-2n-OHbbwIv3SY8RP9bgTQ   0.625698  \n",
       "-5RN56jH78MV2oquLV_G8g   0.596803  \n",
       "-j68F3i6vq1K7Fj9HuncHQ   0.570458  \n",
       "05tazaFQt1EnQ_Gk_1AFyg   0.628037  \n",
       "0InQd9vuhRc98OksC3Ks8Q   0.539326  "
      ]
     },
     "execution_count": 77,
     "metadata": {},
     "output_type": "execute_result"
    }
   ],
   "source": [
    "node_attr_df.head(5)"
   ]
  },
  {
   "cell_type": "markdown",
   "metadata": {},
   "source": [
    "For each of the attributes we are considering; delivery (yes, no, unknown), takeout (yes, no, unkown), WaiterService (yes, no, unknown), and rating (1-5), we will compute minimum, maximum, mean, median for eigenvector and degree centrality.  "
   ]
  },
  {
   "cell_type": "code",
   "execution_count": 78,
   "metadata": {},
   "outputs": [
    {
     "data": {
      "text/html": [
       "<div>\n",
       "<style>\n",
       "    .dataframe thead tr:only-child th {\n",
       "        text-align: right;\n",
       "    }\n",
       "\n",
       "    .dataframe thead th {\n",
       "        text-align: left;\n",
       "    }\n",
       "\n",
       "    .dataframe tbody tr th {\n",
       "        vertical-align: top;\n",
       "    }\n",
       "</style>\n",
       "<table border=\"1\" class=\"dataframe\">\n",
       "  <thead>\n",
       "    <tr>\n",
       "      <th></th>\n",
       "      <th colspan=\"4\" halign=\"left\">degree</th>\n",
       "      <th colspan=\"4\" halign=\"left\">eigenvector</th>\n",
       "      <th>name</th>\n",
       "    </tr>\n",
       "    <tr>\n",
       "      <th></th>\n",
       "      <th>AvgDegree</th>\n",
       "      <th>MaxDegree</th>\n",
       "      <th>MinDegree</th>\n",
       "      <th>MedianDegree</th>\n",
       "      <th>MedianEigenvector</th>\n",
       "      <th>AvgEigenvector</th>\n",
       "      <th>MaxEigenvector</th>\n",
       "      <th>MinEigenvector</th>\n",
       "      <th>count</th>\n",
       "    </tr>\n",
       "    <tr>\n",
       "      <th>delivery</th>\n",
       "      <th></th>\n",
       "      <th></th>\n",
       "      <th></th>\n",
       "      <th></th>\n",
       "      <th></th>\n",
       "      <th></th>\n",
       "      <th></th>\n",
       "      <th></th>\n",
       "      <th></th>\n",
       "    </tr>\n",
       "  </thead>\n",
       "  <tbody>\n",
       "    <tr>\n",
       "      <th>No</th>\n",
       "      <td>0.321476</td>\n",
       "      <td>0.889881</td>\n",
       "      <td>0.062500</td>\n",
       "      <td>0.293155</td>\n",
       "      <td>0.046405</td>\n",
       "      <td>0.049381</td>\n",
       "      <td>0.121946</td>\n",
       "      <td>0.007304</td>\n",
       "      <td>312</td>\n",
       "    </tr>\n",
       "    <tr>\n",
       "      <th>Unknown</th>\n",
       "      <td>0.095238</td>\n",
       "      <td>0.095238</td>\n",
       "      <td>0.095238</td>\n",
       "      <td>0.095238</td>\n",
       "      <td>0.015045</td>\n",
       "      <td>0.015045</td>\n",
       "      <td>0.015045</td>\n",
       "      <td>0.015045</td>\n",
       "      <td>1</td>\n",
       "    </tr>\n",
       "    <tr>\n",
       "      <th>Yes</th>\n",
       "      <td>0.264456</td>\n",
       "      <td>0.425595</td>\n",
       "      <td>0.080357</td>\n",
       "      <td>0.288690</td>\n",
       "      <td>0.035531</td>\n",
       "      <td>0.038870</td>\n",
       "      <td>0.066517</td>\n",
       "      <td>0.012796</td>\n",
       "      <td>7</td>\n",
       "    </tr>\n",
       "  </tbody>\n",
       "</table>\n",
       "</div>"
      ],
      "text/plain": [
       "            degree                                        eigenvector  \\\n",
       "         AvgDegree MaxDegree MinDegree MedianDegree MedianEigenvector   \n",
       "delivery                                                                \n",
       "No        0.321476  0.889881  0.062500     0.293155          0.046405   \n",
       "Unknown   0.095238  0.095238  0.095238     0.095238          0.015045   \n",
       "Yes       0.264456  0.425595  0.080357     0.288690          0.035531   \n",
       "\n",
       "                                                       name  \n",
       "         AvgEigenvector MaxEigenvector MinEigenvector count  \n",
       "delivery                                                     \n",
       "No             0.049381       0.121946       0.007304   312  \n",
       "Unknown        0.015045       0.015045       0.015045     1  \n",
       "Yes            0.038870       0.066517       0.012796     7  "
      ]
     },
     "execution_count": 78,
     "metadata": {},
     "output_type": "execute_result"
    }
   ],
   "source": [
    "delivery =  node_attr_df.groupby(['delivery']).agg({\n",
    "                                                    \"eigenvector\": {\n",
    "                                                                     \"MinEigenvector\":    \"min\",\n",
    "                                                                     \"AvgEigenvector\":    \"mean\",\n",
    "                                                                     \"MedianEigenvector\": \"median\",\n",
    "                                                                     \"MaxEigenvector\":    \"max\" },\n",
    "                                                                     \n",
    "                                                    \"degree\":      {\n",
    "                                                                     \"MinDegree\":         \"min\",\n",
    "                                                                     \"AvgDegree\":         \"mean\",\n",
    "                                                                     \"MedianDegree\":      \"median\",\n",
    "                                                                     \"MaxDegree\":         \"max\"  },\n",
    "    \n",
    "                                                    \"name\":        {\n",
    "                                                                     \"count\":             \"count\"}}) \n",
    "\n",
    "delivery"
   ]
  },
  {
   "cell_type": "code",
   "execution_count": 79,
   "metadata": {},
   "outputs": [
    {
     "data": {
      "text/html": [
       "<div>\n",
       "<style>\n",
       "    .dataframe thead tr:only-child th {\n",
       "        text-align: right;\n",
       "    }\n",
       "\n",
       "    .dataframe thead th {\n",
       "        text-align: left;\n",
       "    }\n",
       "\n",
       "    .dataframe tbody tr th {\n",
       "        vertical-align: top;\n",
       "    }\n",
       "</style>\n",
       "<table border=\"1\" class=\"dataframe\">\n",
       "  <thead>\n",
       "    <tr>\n",
       "      <th></th>\n",
       "      <th colspan=\"4\" halign=\"left\">degree</th>\n",
       "      <th colspan=\"4\" halign=\"left\">eigenvector</th>\n",
       "      <th>name</th>\n",
       "    </tr>\n",
       "    <tr>\n",
       "      <th></th>\n",
       "      <th>AvgDegree</th>\n",
       "      <th>MaxDegree</th>\n",
       "      <th>MinDegree</th>\n",
       "      <th>MedianDegree</th>\n",
       "      <th>MedianEigenvector</th>\n",
       "      <th>AvgEigenvector</th>\n",
       "      <th>MaxEigenvector</th>\n",
       "      <th>MinEigenvector</th>\n",
       "      <th>count</th>\n",
       "    </tr>\n",
       "    <tr>\n",
       "      <th>takeout</th>\n",
       "      <th></th>\n",
       "      <th></th>\n",
       "      <th></th>\n",
       "      <th></th>\n",
       "      <th></th>\n",
       "      <th></th>\n",
       "      <th></th>\n",
       "      <th></th>\n",
       "      <th></th>\n",
       "    </tr>\n",
       "  </thead>\n",
       "  <tbody>\n",
       "    <tr>\n",
       "      <th>No</th>\n",
       "      <td>0.343049</td>\n",
       "      <td>0.889881</td>\n",
       "      <td>0.074405</td>\n",
       "      <td>0.312500</td>\n",
       "      <td>0.051744</td>\n",
       "      <td>0.053855</td>\n",
       "      <td>0.121946</td>\n",
       "      <td>0.007304</td>\n",
       "      <td>121</td>\n",
       "    </tr>\n",
       "    <tr>\n",
       "      <th>Unknown</th>\n",
       "      <td>0.095238</td>\n",
       "      <td>0.095238</td>\n",
       "      <td>0.095238</td>\n",
       "      <td>0.095238</td>\n",
       "      <td>0.015045</td>\n",
       "      <td>0.015045</td>\n",
       "      <td>0.015045</td>\n",
       "      <td>0.015045</td>\n",
       "      <td>1</td>\n",
       "    </tr>\n",
       "    <tr>\n",
       "      <th>Yes</th>\n",
       "      <td>0.306277</td>\n",
       "      <td>0.848214</td>\n",
       "      <td>0.062500</td>\n",
       "      <td>0.278274</td>\n",
       "      <td>0.042190</td>\n",
       "      <td>0.046275</td>\n",
       "      <td>0.115464</td>\n",
       "      <td>0.008239</td>\n",
       "      <td>198</td>\n",
       "    </tr>\n",
       "  </tbody>\n",
       "</table>\n",
       "</div>"
      ],
      "text/plain": [
       "           degree                                        eigenvector  \\\n",
       "        AvgDegree MaxDegree MinDegree MedianDegree MedianEigenvector   \n",
       "takeout                                                                \n",
       "No       0.343049  0.889881  0.074405     0.312500          0.051744   \n",
       "Unknown  0.095238  0.095238  0.095238     0.095238          0.015045   \n",
       "Yes      0.306277  0.848214  0.062500     0.278274          0.042190   \n",
       "\n",
       "                                                      name  \n",
       "        AvgEigenvector MaxEigenvector MinEigenvector count  \n",
       "takeout                                                     \n",
       "No            0.053855       0.121946       0.007304   121  \n",
       "Unknown       0.015045       0.015045       0.015045     1  \n",
       "Yes           0.046275       0.115464       0.008239   198  "
      ]
     },
     "execution_count": 79,
     "metadata": {},
     "output_type": "execute_result"
    }
   ],
   "source": [
    "takeout =  node_attr_df.groupby(['takeout']).agg({\n",
    "                                                    \"eigenvector\": {\n",
    "                                                                     \"MinEigenvector\":    \"min\",\n",
    "                                                                     \"AvgEigenvector\":    \"mean\",\n",
    "                                                                     \"MedianEigenvector\": \"median\",\n",
    "                                                                     \"MaxEigenvector\":    \"max\" },\n",
    "                                                    \"degree\":      {\n",
    "                                                                     \"MinDegree\":         \"min\",\n",
    "                                                                     \"AvgDegree\":         \"mean\",\n",
    "                                                                     \"MedianDegree\":      \"median\",\n",
    "                                                                     \"MaxDegree\":         \"max\"  }, \n",
    "    \n",
    "                                                    \"name\":        {\n",
    "                                                                     \"count\":             \"count\"}}) \n",
    "\n",
    "takeout"
   ]
  },
  {
   "cell_type": "code",
   "execution_count": 80,
   "metadata": {},
   "outputs": [
    {
     "data": {
      "text/html": [
       "<div>\n",
       "<style>\n",
       "    .dataframe thead tr:only-child th {\n",
       "        text-align: right;\n",
       "    }\n",
       "\n",
       "    .dataframe thead th {\n",
       "        text-align: left;\n",
       "    }\n",
       "\n",
       "    .dataframe tbody tr th {\n",
       "        vertical-align: top;\n",
       "    }\n",
       "</style>\n",
       "<table border=\"1\" class=\"dataframe\">\n",
       "  <thead>\n",
       "    <tr>\n",
       "      <th></th>\n",
       "      <th colspan=\"4\" halign=\"left\">degree</th>\n",
       "      <th colspan=\"4\" halign=\"left\">eigenvector</th>\n",
       "      <th>name</th>\n",
       "    </tr>\n",
       "    <tr>\n",
       "      <th></th>\n",
       "      <th>AvgDegree</th>\n",
       "      <th>MaxDegree</th>\n",
       "      <th>MinDegree</th>\n",
       "      <th>MedianDegree</th>\n",
       "      <th>MedianEigenvector</th>\n",
       "      <th>AvgEigenvector</th>\n",
       "      <th>MaxEigenvector</th>\n",
       "      <th>MinEigenvector</th>\n",
       "      <th>count</th>\n",
       "    </tr>\n",
       "    <tr>\n",
       "      <th>waiterservice</th>\n",
       "      <th></th>\n",
       "      <th></th>\n",
       "      <th></th>\n",
       "      <th></th>\n",
       "      <th></th>\n",
       "      <th></th>\n",
       "      <th></th>\n",
       "      <th></th>\n",
       "      <th></th>\n",
       "    </tr>\n",
       "  </thead>\n",
       "  <tbody>\n",
       "    <tr>\n",
       "      <th>No</th>\n",
       "      <td>0.256298</td>\n",
       "      <td>0.806548</td>\n",
       "      <td>0.077381</td>\n",
       "      <td>0.202381</td>\n",
       "      <td>0.030665</td>\n",
       "      <td>0.039091</td>\n",
       "      <td>0.115464</td>\n",
       "      <td>0.008239</td>\n",
       "      <td>43</td>\n",
       "    </tr>\n",
       "    <tr>\n",
       "      <th>Unknown</th>\n",
       "      <td>0.174603</td>\n",
       "      <td>0.258929</td>\n",
       "      <td>0.095238</td>\n",
       "      <td>0.169643</td>\n",
       "      <td>0.028368</td>\n",
       "      <td>0.028571</td>\n",
       "      <td>0.042300</td>\n",
       "      <td>0.015045</td>\n",
       "      <td>3</td>\n",
       "    </tr>\n",
       "    <tr>\n",
       "      <th>Yes</th>\n",
       "      <td>0.331031</td>\n",
       "      <td>0.889881</td>\n",
       "      <td>0.062500</td>\n",
       "      <td>0.303571</td>\n",
       "      <td>0.048723</td>\n",
       "      <td>0.050830</td>\n",
       "      <td>0.121946</td>\n",
       "      <td>0.007304</td>\n",
       "      <td>274</td>\n",
       "    </tr>\n",
       "  </tbody>\n",
       "</table>\n",
       "</div>"
      ],
      "text/plain": [
       "                 degree                                        eigenvector  \\\n",
       "              AvgDegree MaxDegree MinDegree MedianDegree MedianEigenvector   \n",
       "waiterservice                                                                \n",
       "No             0.256298  0.806548  0.077381     0.202381          0.030665   \n",
       "Unknown        0.174603  0.258929  0.095238     0.169643          0.028368   \n",
       "Yes            0.331031  0.889881  0.062500     0.303571          0.048723   \n",
       "\n",
       "                                                            name  \n",
       "              AvgEigenvector MaxEigenvector MinEigenvector count  \n",
       "waiterservice                                                     \n",
       "No                  0.039091       0.115464       0.008239    43  \n",
       "Unknown             0.028571       0.042300       0.015045     3  \n",
       "Yes                 0.050830       0.121946       0.007304   274  "
      ]
     },
     "execution_count": 80,
     "metadata": {},
     "output_type": "execute_result"
    }
   ],
   "source": [
    "waiterservice =  node_attr_df.groupby(['waiterservice']).agg({\n",
    "                                                    \"eigenvector\": {\n",
    "                                                                     \"MinEigenvector\":    \"min\",\n",
    "                                                                     \"AvgEigenvector\":    \"mean\",\n",
    "                                                                     \"MedianEigenvector\": \"median\",\n",
    "                                                                     \"MaxEigenvector\":    \"max\" },\n",
    "                                                    \"degree\":      {\n",
    "                                                                     \"MinDegree\":         \"min\",\n",
    "                                                                     \"AvgDegree\":         \"mean\",\n",
    "                                                                     \"MedianDegree\":      \"median\",\n",
    "                                                                     \"MaxDegree\":         \"max\"  }, \n",
    "\n",
    "                                                    \"name\":        {\n",
    "                                                                     \"count\":             \"count\"}}) \n",
    "\n",
    "\n",
    "waiterservice"
   ]
  },
  {
   "cell_type": "markdown",
   "metadata": {},
   "source": [
    "The majority of restaurants under consideration do not deliver, hence we are not able to evaluate whether this attribute has an impact on the centrality measures. Restaurants seemed to be pretty much evenly split with those that provide takeout and those who do not, there do not appear to have much difference in the average values for degree centrality or for Eigenvecor centrality. If we look at WaiterService however, it does appear that restaurants which provide this service have a higher centrality measures than those who do not. We will evaluate whether both these assumption are statistically true.  "
   ]
  },
  {
   "cell_type": "markdown",
   "metadata": {},
   "source": [
    "#### two-sample t-test  "
   ]
  },
  {
   "cell_type": "markdown",
   "metadata": {},
   "source": [
    "We will first consider degree centrality with respect to takeout, then we will consider it with respect to waiterserver.  \n",
    "\n",
    "Our null hypothesis is that the mean of degree centrality for the group of restaurants with takeout is the same as for the group without.   \n",
    "\n",
    "Let us consider each population:  "
   ]
  },
  {
   "cell_type": "code",
   "execution_count": 81,
   "metadata": {},
   "outputs": [
    {
     "data": {
      "text/plain": [
       "Ttest_indResult(statistic=array([-1.87315408]), pvalue=array([ 0.0621882]))"
      ]
     },
     "execution_count": 81,
     "metadata": {},
     "output_type": "execute_result"
    }
   ],
   "source": [
    "d_takeout_yes = node_attr_df[node_attr_df.takeout=='Yes'][['degree']]\n",
    "d_takeout_no = node_attr_df[node_attr_df.takeout=='No'][['degree']]\n",
    "\n",
    "stats.ttest_ind(a= d_takeout_yes,\n",
    "                b= d_takeout_no,\n",
    "                equal_var=False)  "
   ]
  },
  {
   "cell_type": "markdown",
   "metadata": {},
   "source": [
    "Considering a 95% confidence interval, the p-value is greater than 5%, we cannot reject the null hypothesis at this time.  "
   ]
  },
  {
   "cell_type": "markdown",
   "metadata": {},
   "source": [
    "We will now consider the attribute Waiter Service, our null hypothesis is that the mean of degree centrality for the group of restaurants with Waiter Service is the same as the group of restaurants without Waiter Service."
   ]
  },
  {
   "cell_type": "code",
   "execution_count": 82,
   "metadata": {},
   "outputs": [
    {
     "data": {
      "text/plain": [
       "Ttest_indResult(statistic=array([ 2.55002898]), pvalue=array([ 0.01363616]))"
      ]
     },
     "execution_count": 82,
     "metadata": {},
     "output_type": "execute_result"
    }
   ],
   "source": [
    "d_waiter_yes = node_attr_df[node_attr_df.waiterservice=='Yes'][['degree']]\n",
    "d_waiter_no = node_attr_df[node_attr_df.waiterservice=='No'][['degree']]\n",
    "\n",
    "stats.ttest_ind(a= d_waiter_yes,\n",
    "                b= d_waiter_no,\n",
    "                equal_var=False)  "
   ]
  },
  {
   "cell_type": "markdown",
   "metadata": {},
   "source": [
    "Considering a 95% confidence interval, the p-value is less than 5%, hence we would reject the null hypothesis and conclude that the difference in the mean of degree centrality between the restaurants with Waiter Service and with out is statistically significant.  \n",
    "\n",
    "Let us repeat these tests for the Eigen vector centrality.  \n"
   ]
  },
  {
   "cell_type": "code",
   "execution_count": 83,
   "metadata": {},
   "outputs": [
    {
     "data": {
      "text/plain": [
       "Ttest_indResult(statistic=array([-2.68193495]), pvalue=array([ 0.00780284]))"
      ]
     },
     "execution_count": 83,
     "metadata": {},
     "output_type": "execute_result"
    }
   ],
   "source": [
    "e_takeout_yes = node_attr_df[node_attr_df.takeout=='Yes'][['eigenvector']]\n",
    "e_takeout_no = node_attr_df[node_attr_df.takeout=='No'][['eigenvector']]\n",
    "\n",
    "stats.ttest_ind(a= e_takeout_yes,\n",
    "                b= e_takeout_no,\n",
    "                equal_var=False)  "
   ]
  },
  {
   "cell_type": "code",
   "execution_count": 84,
   "metadata": {},
   "outputs": [
    {
     "data": {
      "text/plain": [
       "Ttest_indResult(statistic=array([ 2.74931869]), pvalue=array([ 0.00811892]))"
      ]
     },
     "execution_count": 84,
     "metadata": {},
     "output_type": "execute_result"
    }
   ],
   "source": [
    "e_waiter_yes = node_attr_df[node_attr_df.waiterservice=='Yes'][['eigenvector']]\n",
    "e_waiter_no = node_attr_df[node_attr_df.waiterservice=='No'][['eigenvector']]\n",
    "\n",
    "stats.ttest_ind(a= e_waiter_yes,\n",
    "                b= e_waiter_no,\n",
    "                equal_var=False)   "
   ]
  },
  {
   "cell_type": "markdown",
   "metadata": {},
   "source": [
    "Again, considering a 95% confidence interval, the p-values in both cases are less than 5%, hence we would reject both null hypothesis and conclude that the difference in the mean of Eigen vector centrality between the restaurants with Waiter Service and without and the mean of Eigen vecor centrality between restaurants with takeout and without are statistically significant. "
   ]
  },
  {
   "cell_type": "code",
   "execution_count": 85,
   "metadata": {},
   "outputs": [
    {
     "data": {
      "text/html": [
       "<div>\n",
       "<style>\n",
       "    .dataframe thead tr:only-child th {\n",
       "        text-align: right;\n",
       "    }\n",
       "\n",
       "    .dataframe thead th {\n",
       "        text-align: left;\n",
       "    }\n",
       "\n",
       "    .dataframe tbody tr th {\n",
       "        vertical-align: top;\n",
       "    }\n",
       "</style>\n",
       "<table border=\"1\" class=\"dataframe\">\n",
       "  <thead>\n",
       "    <tr>\n",
       "      <th></th>\n",
       "      <th colspan=\"4\" halign=\"left\">degree</th>\n",
       "      <th colspan=\"4\" halign=\"left\">eigenvector</th>\n",
       "      <th>name</th>\n",
       "    </tr>\n",
       "    <tr>\n",
       "      <th></th>\n",
       "      <th>AvgDegree</th>\n",
       "      <th>MaxDegree</th>\n",
       "      <th>MinDegree</th>\n",
       "      <th>MedianDegree</th>\n",
       "      <th>MedianEigenvector</th>\n",
       "      <th>AvgEigenvector</th>\n",
       "      <th>MaxEigenvector</th>\n",
       "      <th>MinEigenvector</th>\n",
       "      <th>count</th>\n",
       "    </tr>\n",
       "    <tr>\n",
       "      <th>rating</th>\n",
       "      <th></th>\n",
       "      <th></th>\n",
       "      <th></th>\n",
       "      <th></th>\n",
       "      <th></th>\n",
       "      <th></th>\n",
       "      <th></th>\n",
       "      <th></th>\n",
       "      <th></th>\n",
       "    </tr>\n",
       "  </thead>\n",
       "  <tbody>\n",
       "    <tr>\n",
       "      <th>1.5</th>\n",
       "      <td>0.244048</td>\n",
       "      <td>0.244048</td>\n",
       "      <td>0.244048</td>\n",
       "      <td>0.244048</td>\n",
       "      <td>0.028049</td>\n",
       "      <td>0.028049</td>\n",
       "      <td>0.028049</td>\n",
       "      <td>0.028049</td>\n",
       "      <td>1</td>\n",
       "    </tr>\n",
       "    <tr>\n",
       "      <th>2.0</th>\n",
       "      <td>0.245833</td>\n",
       "      <td>0.437500</td>\n",
       "      <td>0.077381</td>\n",
       "      <td>0.252976</td>\n",
       "      <td>0.032221</td>\n",
       "      <td>0.031399</td>\n",
       "      <td>0.056782</td>\n",
       "      <td>0.011757</td>\n",
       "      <td>5</td>\n",
       "    </tr>\n",
       "    <tr>\n",
       "      <th>2.5</th>\n",
       "      <td>0.195489</td>\n",
       "      <td>0.386905</td>\n",
       "      <td>0.074405</td>\n",
       "      <td>0.202381</td>\n",
       "      <td>0.025198</td>\n",
       "      <td>0.027056</td>\n",
       "      <td>0.052202</td>\n",
       "      <td>0.007304</td>\n",
       "      <td>19</td>\n",
       "    </tr>\n",
       "    <tr>\n",
       "      <th>3.0</th>\n",
       "      <td>0.273224</td>\n",
       "      <td>0.770833</td>\n",
       "      <td>0.077381</td>\n",
       "      <td>0.252976</td>\n",
       "      <td>0.037481</td>\n",
       "      <td>0.038788</td>\n",
       "      <td>0.088475</td>\n",
       "      <td>0.011829</td>\n",
       "      <td>61</td>\n",
       "    </tr>\n",
       "    <tr>\n",
       "      <th>3.5</th>\n",
       "      <td>0.290737</td>\n",
       "      <td>0.824405</td>\n",
       "      <td>0.062500</td>\n",
       "      <td>0.281250</td>\n",
       "      <td>0.043260</td>\n",
       "      <td>0.044707</td>\n",
       "      <td>0.107515</td>\n",
       "      <td>0.008239</td>\n",
       "      <td>112</td>\n",
       "    </tr>\n",
       "    <tr>\n",
       "      <th>4.0</th>\n",
       "      <td>0.398455</td>\n",
       "      <td>0.889881</td>\n",
       "      <td>0.074405</td>\n",
       "      <td>0.389881</td>\n",
       "      <td>0.062495</td>\n",
       "      <td>0.063171</td>\n",
       "      <td>0.121946</td>\n",
       "      <td>0.010622</td>\n",
       "      <td>109</td>\n",
       "    </tr>\n",
       "    <tr>\n",
       "      <th>4.5</th>\n",
       "      <td>0.338370</td>\n",
       "      <td>0.806548</td>\n",
       "      <td>0.110119</td>\n",
       "      <td>0.300595</td>\n",
       "      <td>0.052607</td>\n",
       "      <td>0.056615</td>\n",
       "      <td>0.115464</td>\n",
       "      <td>0.020123</td>\n",
       "      <td>13</td>\n",
       "    </tr>\n",
       "  </tbody>\n",
       "</table>\n",
       "</div>"
      ],
      "text/plain": [
       "          degree                                        eigenvector  \\\n",
       "       AvgDegree MaxDegree MinDegree MedianDegree MedianEigenvector   \n",
       "rating                                                                \n",
       "1.5     0.244048  0.244048  0.244048     0.244048          0.028049   \n",
       "2.0     0.245833  0.437500  0.077381     0.252976          0.032221   \n",
       "2.5     0.195489  0.386905  0.074405     0.202381          0.025198   \n",
       "3.0     0.273224  0.770833  0.077381     0.252976          0.037481   \n",
       "3.5     0.290737  0.824405  0.062500     0.281250          0.043260   \n",
       "4.0     0.398455  0.889881  0.074405     0.389881          0.062495   \n",
       "4.5     0.338370  0.806548  0.110119     0.300595          0.052607   \n",
       "\n",
       "                                                     name  \n",
       "       AvgEigenvector MaxEigenvector MinEigenvector count  \n",
       "rating                                                     \n",
       "1.5          0.028049       0.028049       0.028049     1  \n",
       "2.0          0.031399       0.056782       0.011757     5  \n",
       "2.5          0.027056       0.052202       0.007304    19  \n",
       "3.0          0.038788       0.088475       0.011829    61  \n",
       "3.5          0.044707       0.107515       0.008239   112  \n",
       "4.0          0.063171       0.121946       0.010622   109  \n",
       "4.5          0.056615       0.115464       0.020123    13  "
      ]
     },
     "execution_count": 85,
     "metadata": {},
     "output_type": "execute_result"
    }
   ],
   "source": [
    "rating =  node_attr_df.groupby(['rating']).agg({\n",
    "                                                    \"eigenvector\": {\n",
    "                                                                     \"MinEigenvector\":    \"min\",\n",
    "                                                                     \"AvgEigenvector\":    \"mean\",\n",
    "                                                                     \"MedianEigenvector\": \"median\",\n",
    "                                                                     \"MaxEigenvector\":    \"max\" },\n",
    "                                                    \"degree\":      {\n",
    "                                                                     \"MinDegree\":         \"min\",\n",
    "                                                                     \"AvgDegree\":         \"mean\",\n",
    "                                                                     \"MedianDegree\":      \"median\",\n",
    "                                                                     \"MaxDegree\":         \"max\"  }, \n",
    "                                                   \n",
    "                                                    \"name\":        {\n",
    "                                                                     \"count\":             \"count\"}}) \n",
    "\n",
    "\n",
    "rating"
   ]
  },
  {
   "cell_type": "markdown",
   "metadata": {
    "collapsed": true
   },
   "source": [
    "### Relationship Between Centrality Measures and Rating Values"
   ]
  },
  {
   "cell_type": "markdown",
   "metadata": {},
   "source": [
    "Let's look to see if there's any indication of a relationship between degree and eigenvalue centrality and the rating score of a restaurant in \"The Strip\" neighborhood."
   ]
  },
  {
   "cell_type": "code",
   "execution_count": 86,
   "metadata": {},
   "outputs": [
    {
     "data": {
      "image/png": "[encoded data removed]",
      "text/plain": [
       "<matplotlib.figure.Figure at 0x1172e780>"
      ]
     },
     "metadata": {},
     "output_type": "display_data"
    }
   ],
   "source": [
    "# eigenvector\n",
    "sns.jointplot(x=\"rating\", y=\"eigenvector\", data=node_attr_df, kind=\"reg\");"
   ]
  },
  {
   "cell_type": "code",
   "execution_count": 87,
   "metadata": {},
   "outputs": [
    {
     "data": {
      "image/png": "[encoded data removed]",
      "text/plain": [
       "<matplotlib.figure.Figure at 0x117467f0>"
      ]
     },
     "metadata": {},
     "output_type": "display_data"
    }
   ],
   "source": [
    "# degree\n",
    "sns.jointplot(x=\"rating\", y=\"degree\", data=node_attr_df, kind=\"reg\");"
   ]
  },
  {
   "cell_type": "markdown",
   "metadata": {},
   "source": [
    "There does appear to be some correlation between these centrality scores and rating.  Eigenvector centrality has a slightly stronger correlation with a pearsonr value of 0.49."
   ]
  },
  {
   "cell_type": "code",
   "execution_count": 88,
   "metadata": {},
   "outputs": [
    {
     "data": {
      "text/html": [
       "<div>\n",
       "<style>\n",
       "    .dataframe thead tr:only-child th {\n",
       "        text-align: right;\n",
       "    }\n",
       "\n",
       "    .dataframe thead th {\n",
       "        text-align: left;\n",
       "    }\n",
       "\n",
       "    .dataframe tbody tr th {\n",
       "        vertical-align: top;\n",
       "    }\n",
       "</style>\n",
       "<table border=\"1\" class=\"dataframe\">\n",
       "  <thead>\n",
       "    <tr style=\"text-align: right;\">\n",
       "      <th></th>\n",
       "      <th>rating</th>\n",
       "      <th>degree</th>\n",
       "      <th>eigenvector</th>\n",
       "      <th>betweenness</th>\n",
       "      <th>closeness</th>\n",
       "    </tr>\n",
       "  </thead>\n",
       "  <tbody>\n",
       "    <tr>\n",
       "      <th>rating</th>\n",
       "      <td>1.000000</td>\n",
       "      <td>0.311412</td>\n",
       "      <td>0.424383</td>\n",
       "      <td>0.235666</td>\n",
       "      <td>0.302212</td>\n",
       "    </tr>\n",
       "    <tr>\n",
       "      <th>degree</th>\n",
       "      <td>0.311412</td>\n",
       "      <td>1.000000</td>\n",
       "      <td>0.981098</td>\n",
       "      <td>0.876699</td>\n",
       "      <td>0.988047</td>\n",
       "    </tr>\n",
       "    <tr>\n",
       "      <th>eigenvector</th>\n",
       "      <td>0.424383</td>\n",
       "      <td>0.981098</td>\n",
       "      <td>1.000000</td>\n",
       "      <td>0.815187</td>\n",
       "      <td>0.958057</td>\n",
       "    </tr>\n",
       "    <tr>\n",
       "      <th>betweenness</th>\n",
       "      <td>0.235666</td>\n",
       "      <td>0.876699</td>\n",
       "      <td>0.815187</td>\n",
       "      <td>1.000000</td>\n",
       "      <td>0.937397</td>\n",
       "    </tr>\n",
       "    <tr>\n",
       "      <th>closeness</th>\n",
       "      <td>0.302212</td>\n",
       "      <td>0.988047</td>\n",
       "      <td>0.958057</td>\n",
       "      <td>0.937397</td>\n",
       "      <td>1.000000</td>\n",
       "    </tr>\n",
       "  </tbody>\n",
       "</table>\n",
       "</div>"
      ],
      "text/plain": [
       "               rating    degree  eigenvector  betweenness  closeness\n",
       "rating       1.000000  0.311412     0.424383     0.235666   0.302212\n",
       "degree       0.311412  1.000000     0.981098     0.876699   0.988047\n",
       "eigenvector  0.424383  0.981098     1.000000     0.815187   0.958057\n",
       "betweenness  0.235666  0.876699     0.815187     1.000000   0.937397\n",
       "closeness    0.302212  0.988047     0.958057     0.937397   1.000000"
      ]
     },
     "execution_count": 88,
     "metadata": {},
     "output_type": "execute_result"
    }
   ],
   "source": [
    "# let's look at the correlation\n",
    "node_attr_df.corr()"
   ]
  },
  {
   "cell_type": "markdown",
   "metadata": {},
   "source": [
    "#### Convert the ratings score to a categorical variable, assuming a value based on the specific ranges of ratings:\n",
    "\n",
    "Ranges:\n",
    "* Excellent : 4 - 5 \n",
    "* Good      : 3 - 3.99 \n",
    "* Fair      : 2 - 2.99 \n",
    "* Poor      : 1 - 1.99 "
   ]
  },
  {
   "cell_type": "code",
   "execution_count": 89,
   "metadata": {
    "collapsed": true
   },
   "outputs": [],
   "source": [
    "# create a column to store a categorical variable of the group\n",
    "node_attr_df = node_attr_df.assign(rating_group = \"\")"
   ]
  },
  {
   "cell_type": "code",
   "execution_count": 90,
   "metadata": {
    "collapsed": true
   },
   "outputs": [],
   "source": [
    "# assign the rating_group based on the ranges above\n",
    "\n",
    "node_attr_df.loc[node_attr_df.rating >= 4, 'rating_group'] = 'Excellent'\n",
    "node_attr_df.loc[(node_attr_df.rating >= 3) & (node_attr_df.rating < 4), 'rating_group'] = 'Good'\n",
    "node_attr_df.loc[(node_attr_df.rating >= 2) & (node_attr_df.rating < 3), 'rating_group'] = 'Fair'\n",
    "node_attr_df.loc[(node_attr_df.rating >= 1) & (node_attr_df.rating < 2), 'rating_group'] = 'Poor'\n",
    "\n",
    "node_attr_df['rating_group'] = pd.Categorical(node_attr_df.rating_group)"
   ]
  },
  {
   "cell_type": "code",
   "execution_count": 91,
   "metadata": {},
   "outputs": [
    {
     "data": {
      "text/html": [
       "<div>\n",
       "<style>\n",
       "    .dataframe thead tr:only-child th {\n",
       "        text-align: right;\n",
       "    }\n",
       "\n",
       "    .dataframe thead th {\n",
       "        text-align: left;\n",
       "    }\n",
       "\n",
       "    .dataframe tbody tr th {\n",
       "        vertical-align: top;\n",
       "    }\n",
       "</style>\n",
       "<table border=\"1\" class=\"dataframe\">\n",
       "  <thead>\n",
       "    <tr>\n",
       "      <th></th>\n",
       "      <th colspan=\"3\" halign=\"left\">degree</th>\n",
       "      <th colspan=\"3\" halign=\"left\">eigenvector</th>\n",
       "      <th>name</th>\n",
       "    </tr>\n",
       "    <tr>\n",
       "      <th></th>\n",
       "      <th>AvgDegree</th>\n",
       "      <th>MaxDegree</th>\n",
       "      <th>MinDegree</th>\n",
       "      <th>AvgEigenvector</th>\n",
       "      <th>MaxEigenvector</th>\n",
       "      <th>MinEigenvector</th>\n",
       "      <th>count</th>\n",
       "    </tr>\n",
       "    <tr>\n",
       "      <th>rating_group</th>\n",
       "      <th></th>\n",
       "      <th></th>\n",
       "      <th></th>\n",
       "      <th></th>\n",
       "      <th></th>\n",
       "      <th></th>\n",
       "      <th></th>\n",
       "    </tr>\n",
       "  </thead>\n",
       "  <tbody>\n",
       "    <tr>\n",
       "      <th>Excellent</th>\n",
       "      <td>0.392052</td>\n",
       "      <td>0.889881</td>\n",
       "      <td>0.074405</td>\n",
       "      <td>0.062472</td>\n",
       "      <td>0.121946</td>\n",
       "      <td>0.010622</td>\n",
       "      <td>122</td>\n",
       "    </tr>\n",
       "    <tr>\n",
       "      <th>Fair</th>\n",
       "      <td>0.205977</td>\n",
       "      <td>0.437500</td>\n",
       "      <td>0.074405</td>\n",
       "      <td>0.027960</td>\n",
       "      <td>0.056782</td>\n",
       "      <td>0.007304</td>\n",
       "      <td>24</td>\n",
       "    </tr>\n",
       "    <tr>\n",
       "      <th>Good</th>\n",
       "      <td>0.284562</td>\n",
       "      <td>0.824405</td>\n",
       "      <td>0.062500</td>\n",
       "      <td>0.042620</td>\n",
       "      <td>0.107515</td>\n",
       "      <td>0.008239</td>\n",
       "      <td>173</td>\n",
       "    </tr>\n",
       "    <tr>\n",
       "      <th>Poor</th>\n",
       "      <td>0.244048</td>\n",
       "      <td>0.244048</td>\n",
       "      <td>0.244048</td>\n",
       "      <td>0.028049</td>\n",
       "      <td>0.028049</td>\n",
       "      <td>0.028049</td>\n",
       "      <td>1</td>\n",
       "    </tr>\n",
       "  </tbody>\n",
       "</table>\n",
       "</div>"
      ],
      "text/plain": [
       "                degree                        eigenvector                 \\\n",
       "             AvgDegree MaxDegree MinDegree AvgEigenvector MaxEigenvector   \n",
       "rating_group                                                               \n",
       "Excellent     0.392052  0.889881  0.074405       0.062472       0.121946   \n",
       "Fair          0.205977  0.437500  0.074405       0.027960       0.056782   \n",
       "Good          0.284562  0.824405  0.062500       0.042620       0.107515   \n",
       "Poor          0.244048  0.244048  0.244048       0.028049       0.028049   \n",
       "\n",
       "                             name  \n",
       "             MinEigenvector count  \n",
       "rating_group                       \n",
       "Excellent          0.010622   122  \n",
       "Fair               0.007304    24  \n",
       "Good               0.008239   173  \n",
       "Poor               0.028049     1  "
      ]
     },
     "execution_count": 91,
     "metadata": {},
     "output_type": "execute_result"
    }
   ],
   "source": [
    "rating_group =  node_attr_df.groupby(['rating_group']).agg({\n",
    "                                                    \"eigenvector\": {\n",
    "                                                                     \"MinEigenvector\":    \"min\",\n",
    "                                                                     \"AvgEigenvector\":    \"mean\",\n",
    "                                                                     \"MaxEigenvector\":    \"max\" },\n",
    "                                                    \"degree\":      {\n",
    "                                                                     \"MinDegree\":         \"min\",\n",
    "                                                                     \"AvgDegree\":         \"mean\",\n",
    "                                                                     \"MaxDegree\":         \"max\"  },\n",
    "\n",
    "                                                    \"name\":        {\n",
    "                                                                     \"count\":             \"count\"}}) \n",
    "\n",
    "rating_group"
   ]
  },
  {
   "cell_type": "code",
   "execution_count": 92,
   "metadata": {},
   "outputs": [
    {
     "data": {
      "image/png": "[encoded data removed]",
      "text/plain": [
       "<matplotlib.figure.Figure at 0xffcf2b0>"
      ]
     },
     "metadata": {},
     "output_type": "display_data"
    }
   ],
   "source": [
    "sns.stripplot(x=\"rating_group\", y=\"eigenvector\", data=node_attr_df);\n",
    "\n",
    "plt.show()"
   ]
  },
  {
   "cell_type": "code",
   "execution_count": 93,
   "metadata": {},
   "outputs": [
    {
     "data": {
      "text/plain": [
       "Ttest_indResult(statistic=37.159989414625656, pvalue=1.5395874781974362e-25)"
      ]
     },
     "execution_count": 93,
     "metadata": {},
     "output_type": "execute_result"
    }
   ],
   "source": [
    "\n",
    "excellent_ratings = node_attr_df[node_attr_df.rating_group=='Excellent'].rating\n",
    "                          \n",
    "fair_ratings = node_attr_df[node_attr_df.rating_group=='Fair'].rating\n",
    "\n",
    "stats.ttest_ind(a= excellent_ratings,\n",
    "                b= fair_ratings,\n",
    "                equal_var=False)"
   ]
  },
  {
   "cell_type": "markdown",
   "metadata": {},
   "source": [
    "Higher Eigen vector centrality score are closely related to higher ratings. We can infere that people are more likely to post positive reviews for restaurants. "
   ]
  },
  {
   "cell_type": "code",
   "execution_count": null,
   "metadata": {
    "collapsed": true
   },
   "outputs": [],
   "source": []
  }
 ],
 "metadata": {
  "anaconda-cloud": {},
  "kernelspec": {
   "display_name": "Python 2",
   "language": "python",
   "name": "python2"
  },
  "language_info": {
   "codemirror_mode": {
    "name": "ipython",
    "version": 2
   },
   "file_extension": ".py",
   "mimetype": "text/x-python",
   "name": "python",
   "nbconvert_exporter": "python",
   "pygments_lexer": "ipython2",
   "version": "2.7.13"
  }
 },
 "nbformat": 4,
 "nbformat_minor": 2
}
